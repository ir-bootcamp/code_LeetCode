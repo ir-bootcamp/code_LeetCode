{
 "cells": [
  {
   "cell_type": "code",
   "execution_count": 6,
   "metadata": {},
   "outputs": [
    {
     "name": "stdout",
     "output_type": "stream",
     "text": [
      "{1: 2, 2: 3, 4: 1, 0: 1, 5: 1}\n",
      "1\n",
      "2\n",
      "4\n",
      "0\n",
      "5\n"
     ]
    }
   ],
   "source": [
    "lst = [1, 2, 1, 2, 2, 4, 0, 5]\n",
    "\n",
    "count_dict = {}\n",
    "for el in lst:\n",
    "    if el in count_dict:\n",
    "        count_dict[el] += 1\n",
    "    else:\n",
    "        count_dict[el] = 1\n",
    "print (count_dict)\n",
    "\n",
    "for i in count_dict:\n",
    "    print (i)\n"
   ]
  },
  {
   "cell_type": "code",
   "execution_count": 5,
   "metadata": {},
   "outputs": [
    {
     "name": "stdout",
     "output_type": "stream",
     "text": [
      "Counter({2: 3, 1: 2, 4: 1, 0: 1, 5: 1})\n",
      "1\n",
      "2\n",
      "4\n",
      "0\n",
      "5\n"
     ]
    }
   ],
   "source": [
    "from collections import Counter\n",
    "\n",
    "lst = [1, 2, 1, 2, 2, 4, 0, 5]\n",
    "my_counter = Counter(lst)\n",
    "print (my_counter)\n",
    "\n",
    "for i in my_counter:\n",
    "    print (i)"
   ]
  }
 ],
 "metadata": {
  "kernelspec": {
   "display_name": "Python 3",
   "language": "python",
   "name": "python3"
  },
  "language_info": {
   "codemirror_mode": {
    "name": "ipython",
    "version": 3
   },
   "file_extension": ".py",
   "mimetype": "text/x-python",
   "name": "python",
   "nbconvert_exporter": "python",
   "pygments_lexer": "ipython3",
   "version": "3.12.1"
  }
 },
 "nbformat": 4,
 "nbformat_minor": 2
}
