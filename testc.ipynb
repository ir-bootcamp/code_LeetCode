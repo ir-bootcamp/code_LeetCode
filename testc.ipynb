{
 "cells": [
  {
   "cell_type": "code",
   "execution_count": 7,
   "metadata": {},
   "outputs": [
    {
     "name": "stdout",
     "output_type": "stream",
     "text": [
      "101\n",
      "102\n",
      "103\n",
      "104\n",
      "105\n",
      "0\n",
      "1\n",
      "2\n",
      "3\n",
      "4\n",
      "len is 5\n"
     ]
    }
   ],
   "source": [
    "my_list = [1, 2, 3, 4, 5]\n",
    "len(my_list)\n",
    "for i in my_list:\n",
    "    print (100 + i)\n",
    "\n",
    "for ir in range (len(my_list)):\n",
    "    print  (ir)\n",
    "print (f\"len is {len(my_list)}\")"
   ]
  },
  {
   "cell_type": "code",
   "execution_count": null,
   "metadata": {},
   "outputs": [],
   "source": []
  },
  {
   "cell_type": "code",
   "execution_count": null,
   "metadata": {},
   "outputs": [],
   "source": []
  },
  {
   "cell_type": "code",
   "execution_count": null,
   "metadata": {},
   "outputs": [],
   "source": []
  },
  {
   "cell_type": "code",
   "execution_count": 12,
   "metadata": {},
   "outputs": [
    {
     "data": {
      "text/plain": [
       "range(1, 10, 2)"
      ]
     },
     "execution_count": 12,
     "metadata": {},
     "output_type": "execute_result"
    }
   ],
   "source": [
    "range(1, 10, 2)   # 1, 3, 5, 7, 9"
   ]
  },
  {
   "cell_type": "code",
   "execution_count": null,
   "metadata": {},
   "outputs": [],
   "source": [
    "def maxProfit(self, prices: List[int]) -> int:\n",
    "    \"\"\"\n",
    "    Calculate the ....\n",
    "    :param prices: List[int] - A list of ...\n",
    "    :return: int - The ....\n",
    "    \"\"\"\n",
    "    # Assert to ensure the list is not empty\n",
    "    assert isinstance(prices, list) and len(prices) > 0, \"The input list 'prices' must not be empty.\"\n",
    "\n",
    "    max_profit = 0  # Initialize the variable to store the maximum profit\n",
    "\n",
    "    for i in range(1, len(prices)):\n",
    "        # If the price on the next day is higher than the current day, add the profit\n",
    "        if prices[i] > prices[i - 1]:\n",
    "            max_profit += prices[i] - prices[i - 1]\n",
    "\n",
    "    return max_profit  # Return the accumulated profit"
   ]
  },
  {
   "cell_type": "code",
   "execution_count": null,
   "metadata": {},
   "outputs": [],
   "source": [
    "def is_valid_parentheses(s: str) -> bool:\n",
    "    # Словарь для сопоставления скобок\n",
    "    bracket_map = {')': '(', ']': '[', '}': '{'}\n",
    "    open_brackets = {'(', '[', '{'}  # Множество открывающих скобок\n",
    "    stack = []  # Стек для проверки парности\n",
    "\n",
    "    # Перебираем символы в строке\n",
    "    for char in s:\n",
    "        if char in open_brackets:  # Если это открывающая скобка\n",
    "            stack.append(char)\n",
    "        elif char in bracket_map:  # Если это закрывающая скобка\n",
    "            top_element = stack.pop() if stack else None\n",
    "            if bracket_map[char] != top_element:\n",
    "                return False  # Несоответствие скобок\n",
    "        # Игнорируем все остальные символы\n",
    "\n",
    "    # Если стек пуст, все скобки правильно закрыты\n",
    "    return not stack\n"
   ]
  },
  {
   "cell_type": "code",
   "execution_count": 3,
   "metadata": {},
   "outputs": [],
   "source": [
    "my_list1 = [1, 2, 1, 45, 8]\n",
    "my_list2 = [3, 4, 5, 7, 1, 2, 2, 4] \n",
    "\n",
    "\n",
    "\n",
    "    \n"
   ]
  },
  {
   "cell_type": "markdown",
   "metadata": {},
   "source": []
  },
  {
   "cell_type": "markdown",
   "metadata": {},
   "source": []
  },
  {
   "cell_type": "code",
   "execution_count": null,
   "metadata": {},
   "outputs": [],
   "source": []
  },
  {
   "cell_type": "code",
   "execution_count": null,
   "metadata": {},
   "outputs": [],
   "source": []
  },
  {
   "cell_type": "code",
   "execution_count": null,
   "metadata": {},
   "outputs": [],
   "source": []
  },
  {
   "cell_type": "code",
   "execution_count": null,
   "metadata": {},
   "outputs": [],
   "source": []
  },
  {
   "cell_type": "code",
   "execution_count": null,
   "metadata": {},
   "outputs": [],
   "source": []
  },
  {
   "cell_type": "code",
   "execution_count": null,
   "metadata": {},
   "outputs": [],
   "source": []
  },
  {
   "cell_type": "code",
   "execution_count": null,
   "metadata": {},
   "outputs": [],
   "source": [
    "def non_repeating(given_string):\n",
    "    char_count = {}  # Словарь для подсчёта частот символов\n",
    "                     # Подсчёт частоты каждого символа\n",
    "    for c in given_string:\n",
    "        if c in char_count:\n",
    "            char_count[c] += 1\n",
    "        else:\n",
    "            char_count[c] = 1\n",
    "\n",
    "                     # Поиск первого символа с частотой 1\n",
    "    for c in given_string:\n",
    "        if char_count[c] == 1: # Если символ встречается ровно один раз\n",
    "            return c\n",
    "\n",
    "    return None  # Если неповторяющихся символов нет\n"
   ]
  },
  {
   "cell_type": "code",
   "execution_count": null,
   "metadata": {},
   "outputs": [],
   "source": [
    "def common_elements(list1, list2):\n",
    "    p1 = 0  # Указатель для первого массива\n",
    "    p2 = 0  # Указатель для второго массива\n",
    "    result = []  # Массив для хранения общих элементов\n",
    "\n",
    "    while p1 < len(list1) and p2 < len(list2):  # Пока оба указателя внутри границ своих массивов\n",
    "        if list1[p1] == list2[p2]:  # Если элементы совпадают\n",
    "            result.append(list1[p1])  # Добавляем элемент в результат\n",
    "            p1 += 1  # Сдвигаем оба указателя\n",
    "            p2 += 1\n",
    "        elif list1[p1] > list2[p2]:  # Если элемент из list1 больше элемента из list2\n",
    "            p2 += 1  # Сдвигаем указатель второго массива\n",
    "        else:  # Если элемент из list1 меньше элемента из list2\n",
    "            p1 += 1  # Сдвигаем указатель первого массива\n",
    "\n",
    "    return result  # Возвращаем массив общих элементов\n"
   ]
  }
 ],
 "metadata": {
  "kernelspec": {
   "display_name": "Python 3",
   "language": "python",
   "name": "python3"
  },
  "language_info": {
   "codemirror_mode": {
    "name": "ipython",
    "version": 3
   },
   "file_extension": ".py",
   "mimetype": "text/x-python",
   "name": "python",
   "nbconvert_exporter": "python",
   "pygments_lexer": "ipython3",
   "version": "3.12.1"
  }
 },
 "nbformat": 4,
 "nbformat_minor": 2
}
