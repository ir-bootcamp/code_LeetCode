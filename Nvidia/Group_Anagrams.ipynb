{
 "cells": [
  {
   "cell_type": "markdown",
   "metadata": {},
   "source": [
    "Given an array of strings strs, group the \n",
    "anagrams\n",
    " together. You can return the answer in any order.\n",
    "\n",
    " \n",
    "\n",
    "Example 1:\n",
    "\n",
    "Input: strs = [\"eat\",\"tea\",\"tan\",\"ate\",\"nat\",\"bat\"]\n",
    "\n",
    "Output: [[\"bat\"],[\"nat\",\"tan\"],[\"ate\",\"eat\",\"tea\"]]\n",
    "\n",
    "Explanation:\n",
    "\n",
    "There is no string in strs that can be rearranged to form \"bat\".\n",
    "The strings \"nat\" and \"tan\" are anagrams as they can be rearranged to form each other.\n",
    "The strings \"ate\", \"eat\", and \"tea\" are anagrams as they can be rearranged to form each other."
   ]
  },
  {
   "cell_type": "markdown",
   "metadata": {},
   "source": [
    "https://www.youtube.com/watch?v=vzdNOK2oB2E\n"
   ]
  },
  {
   "cell_type": "code",
   "execution_count": null,
   "metadata": {},
   "outputs": [],
   "source": [
    "class Solution:\n",
    "    def groupAnagrams(self, strs: List[str]) -> List[List[str]]:\n",
    "        d = defaultdict(list)\n",
    "        for s in strs:\n",
    "            cnt = [0] * 26\n",
    "            for c in s:\n",
    "                cnt[ord(c) - ord('a')] += 1\n",
    "            d[tuple(cnt)].append(s)\n",
    "        return list(d.values())"
   ]
  },
  {
   "cell_type": "code",
   "execution_count": null,
   "metadata": {},
   "outputs": [],
   "source": [
    "from collections import defaultdict\n",
    "from typing import List\n",
    "\n",
    "class Solution:\n",
    "    def groupAnagrams(self, strs: List[str]) -> List[List[str]]:\n",
    "        # Строка алфавита, чтобы вручную искать индекс каждой буквы\n",
    "        alphabet = \"abcdefghijklmnopqrstuvwxyz\"\n",
    "        # Словарь для группировки анаграмм\n",
    "        d = defaultdict(list)\n",
    "        # Перебираем каждую строку в списке\n",
    "        for s in strs:\n",
    "            # Создаем массив длиной 26 для подсчета частоты букв\n",
    "            cnt = [0] * 26\n",
    "            # Подсчитываем количество каждой буквы\n",
    "            for c in s:\n",
    "                # Индекс буквы определяется через alphabet.index(c)\n",
    "                idx = alphabet.index(c)\n",
    "                cnt[idx] += 1\n",
    "            # Преобразуем массив частот в кортеж для использования в качестве ключа\n",
    "            d[tuple(cnt)].append(s)\n",
    "            # Возвращаем список значений словаря\n",
    "        return list(d.values())\n"
   ]
  },
  {
   "cell_type": "code",
   "execution_count": null,
   "metadata": {},
   "outputs": [],
   "source": [
    "class Solution:\n",
    "    def twoSum(self, nums: List[int], target: int) -> List[int]:\n",
    "       seen = {}\n",
    "       for i, value in enumerate(nums): #1\n",
    "           remaining = target - nums[i] #2\n",
    "           if remaining in seen: #3\n",
    "               return [i, seen[remaining]]  #4\n",
    "           else:\n",
    "               seen[value] = i  #"
   ]
  },
  {
   "cell_type": "code",
   "execution_count": null,
   "metadata": {},
   "outputs": [],
   "source": [
    "class Solution:\n",
    "    def maxProfit(self, prices: List[int]) -> int:\n",
    "\t    if not prices:\n",
    "\t\t    return 0\n",
    "\t    maxProfit = 0\n",
    "        minPurchase = prices[0]\n",
    "\t    for i in range(1, len(prices)):\t\t\n",
    "\t\t    maxProfit = max(maxProfit, prices[i] - minPurchase)\n",
    "\t\t    minPurchase = min(minPurchase, prices[i])\n",
    "\t    return maxProfit"
   ]
  }
 ],
 "metadata": {
  "language_info": {
   "name": "python"
  }
 },
 "nbformat": 4,
 "nbformat_minor": 2
}
