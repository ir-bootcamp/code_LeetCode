{
 "cells": [
  {
   "cell_type": "markdown",
   "metadata": {},
   "source": [
    "Max count in array\n",
    "Counter"
   ]
  },
  {
   "cell_type": "code",
   "execution_count": 2,
   "metadata": {},
   "outputs": [
    {
     "name": "stdout",
     "output_type": "stream",
     "text": [
      "Элемент с максимальным количеством вхождений: 8\n",
      "Количество вхождений: 7\n"
     ]
    }
   ],
   "source": [
    "my2_list = [1, 2, 3, 4, 4, 4, 5, 6, 6, 7, 8, 8, 8, 8, 8, 8, 8, 9]\n",
    "\n",
    "# Словарь для подсчета количества вхождений\n",
    "frequency = {}\n",
    "\n",
    "# Подсчитываем количество каждого элемента\n",
    "for num in my2_list:\n",
    "    if num in frequency:\n",
    "        frequency[num] += 1\n",
    "    else:\n",
    "        frequency[num] = 1\n",
    "\n",
    "# Ищем элемент с максимальной частотой\n",
    "most_frequent_element = None\n",
    "max_count = 0\n",
    "\n",
    "for key, value in frequency.items():\n",
    "    if value > max_count:\n",
    "        max_count = value\n",
    "        most_frequent_element = key\n",
    "\n",
    "# Выводим результат\n",
    "print(f\"Элемент с максимальным количеством вхождений: {most_frequent_element}\")\n",
    "print(f\"Количество вхождений: {max_count}\")\n"
   ]
  },
  {
   "cell_type": "code",
   "execution_count": 4,
   "metadata": {},
   "outputs": [
    {
     "name": "stdout",
     "output_type": "stream",
     "text": [
      "Элемент с максимальным количеством вхождений: 8\n",
      "Количество вхождений: 8\n"
     ]
    }
   ],
   "source": [
    "# Оптимизированный код:\n",
    "my2_list = [1, 2, 3, 4, 4, 4, 5, 6, 6, 7, 8, 8, 8, 8, 8, 8, 8, 8, 9]\n",
    "\n",
    "# Переменные для хранения наиболее частого элемента и его количества\n",
    "most_frequent_element = None\n",
    "max_count = 0\n",
    "\n",
    "# Словарь для подсчета количества вхождений\n",
    "frequency = {}\n",
    "\n",
    "# Подсчитываем количество каждого элемента и обновляем наиболее частый элемент\n",
    "for num in my2_list:\n",
    "    if num in frequency:\n",
    "        frequency[num] += 1\n",
    "    else:\n",
    "        frequency[num] = 1\n",
    "\n",
    "    # Проверяем, нужно ли обновить наиболее частый элемент\n",
    "    if frequency[num] > max_count:\n",
    "        max_count = frequency[num]\n",
    "        most_frequent_element = num\n",
    "\n",
    "# Выводим результат\n",
    "print(f\"Элемент с максимальным количеством вхождений: {most_frequent_element}\")\n",
    "print(f\"Количество вхождений: {max_count}\")"
   ]
  },
  {
   "cell_type": "markdown",
   "metadata": {},
   "source": [
    "Counter"
   ]
  },
  {
   "cell_type": "code",
   "execution_count": 7,
   "metadata": {},
   "outputs": [
    {
     "name": "stdout",
     "output_type": "stream",
     "text": [
      "Counter({4: 5, 3: 3, 2: 2, 1: 1})\n",
      "4\n",
      "dict_values([1, 2, 3, 5])\n"
     ]
    }
   ],
   "source": [
    "from collections import Counter\n",
    "nums = [1, 2, 2, 3, 3, 3, 4, 4, 4, 4, 4]\n",
    "count = Counter(nums)\n",
    "\n",
    "most_common = max(count, key=count.get)\n",
    "print (count)\n",
    "print(most_common)\n",
    "print (count.values())"
   ]
  },
  {
   "cell_type": "code",
   "execution_count": null,
   "metadata": {},
   "outputs": [],
   "source": [
    "from collections import Counter\n",
    "\n",
    "# Исходный список\n",
    "my2_list = [1, 2, 3, 4, 4, 4, 5, 6, 6, 7, 8, 8, 8, 8, 8, 8, 8, 8, 9]\n",
    "\n",
    "# Подсчитываем количество каждого элемента\n",
    "counter = Counter(my2_list)\n",
    "\n",
    "# Находим элемент с максимальным количеством вхождений\n",
    "most_frequent_element, max_count = counter.most_common(1)[0]\n",
    "\n",
    "# Выводим результат\n",
    "print(f\"Элемент с максимальным количеством вхождений: {most_frequent_element}\")\n",
    "print(f\"Количество вхождений: {max_count}\")\n"
   ]
  },
  {
   "cell_type": "code",
   "execution_count": 12,
   "metadata": {},
   "outputs": [
    {
     "name": "stdout",
     "output_type": "stream",
     "text": [
      "[(3, 3)]\n",
      "(3, 3)\n"
     ]
    }
   ],
   "source": [
    "from collections import Counter\n",
    "\n",
    "# counter = Counter([1, 2, 2, 2, 2, 3, 3, 3, 4])\n",
    "counter = Counter([1, 2, 2, 3, 3, 3, 4])\n",
    "\n",
    "print(counter.most_common(1))  # [(3, 3)]\n",
    "print(counter.most_common(1)[0]) \n",
    "\n",
    "#print(counter.most_common(2))  # [(3, 3), (2, 2)]\n",
    "#print(counter.most_common())   # [(3, 3), (2, 2), (1, 1), (4, 1)]"
   ]
  },
  {
   "cell_type": "code",
   "execution_count": 14,
   "metadata": {},
   "outputs": [
    {
     "name": "stdout",
     "output_type": "stream",
     "text": [
      "Два самых частых элемента: [(5, 5), (4, 4)]\n",
      "Самый частый элемент: 5 (5 раз)\n",
      "Второй по частоте элемент: 4 (4 раз)\n"
     ]
    }
   ],
   "source": [
    "# 2 самых частых элемента\n",
    "\n",
    "from collections import Counter\n",
    "\n",
    "# Исходный список\n",
    "my2_list = [1, 2, 2, 3, 3, 3, 4, 4, 4, 4, 5, 5, 5, 5, 5]\n",
    "\n",
    "# Подсчитываем количество каждого элемента\n",
    "counter = Counter(my2_list)\n",
    "\n",
    "# Получаем 2 самых частых элемента\n",
    "top_two = counter.most_common(2)\n",
    "\n",
    "# Выводим результат\n",
    "print(f\"Два самых частых элемента: {top_two}\")\n",
    "\n",
    "#\n",
    "#Доступ к элементам:\n",
    "#Если вы хотите отдельно работать с элементами и их частотами, можно сделать так:\n",
    "#\n",
    "most_frequent_element_1, count_1 = top_two[0]\n",
    "most_frequent_element_2, count_2 = top_two[1]\n",
    "\n",
    "print(f\"Самый частый элемент: {most_frequent_element_1} ({count_1} раз)\")\n",
    "print(f\"Второй по частоте элемент: {most_frequent_element_2} ({count_2} раз)\")"
   ]
  }
 ],
 "metadata": {
  "kernelspec": {
   "display_name": "Python 3",
   "language": "python",
   "name": "python3"
  },
  "language_info": {
   "codemirror_mode": {
    "name": "ipython",
    "version": 3
   },
   "file_extension": ".py",
   "mimetype": "text/x-python",
   "name": "python",
   "nbconvert_exporter": "python",
   "pygments_lexer": "ipython3",
   "version": "3.12.1"
  }
 },
 "nbformat": 4,
 "nbformat_minor": 2
}
