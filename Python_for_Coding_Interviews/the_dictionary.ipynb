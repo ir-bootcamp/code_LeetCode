{
 "cells": [
  {
   "cell_type": "markdown",
   "metadata": {},
   "source": []
  },
  {
   "cell_type": "code",
   "execution_count": 3,
   "metadata": {},
   "outputs": [
    {
     "data": {
      "text/plain": [
       "'b'"
      ]
     },
     "execution_count": 3,
     "metadata": {},
     "output_type": "execute_result"
    }
   ],
   "source": [
    "# Key of Max Value\n",
    "def key_of_max(d):\n",
    "  return max(d, key = d.get)\n",
    "\n",
    "key_of_max({'a':4, 'b':1, 'c':13})"
   ]
  },
  {
   "cell_type": "code",
   "execution_count": 4,
   "metadata": {},
   "outputs": [
    {
     "name": "stdout",
     "output_type": "stream",
     "text": [
      "The top N value pairs are  {'for': 7, 'best': 6, 'is': 4}\n"
     ]
    }
   ],
   "source": [
    "from collections import Counter\n",
    " \n",
    "dict1 = {'best': 6, 'gfg': 1, 'geeks': 3, 'for': 7, 'is': 4}\n",
    "n = 3  # number of top values\n",
    " \n",
    "counter = Counter(dict1)\n",
    "result = dict(counter.most_common(3))\n",
    " \n",
    "print(\"The top N value pairs are \", result)"
   ]
  }
 ],
 "metadata": {
  "kernelspec": {
   "display_name": "Python 3",
   "language": "python",
   "name": "python3"
  },
  "language_info": {
   "codemirror_mode": {
    "name": "ipython",
    "version": 3
   },
   "file_extension": ".py",
   "mimetype": "text/x-python",
   "name": "python",
   "nbconvert_exporter": "python",
   "pygments_lexer": "ipython3",
   "version": "3.12.1"
  }
 },
 "nbformat": 4,
 "nbformat_minor": 2
}
