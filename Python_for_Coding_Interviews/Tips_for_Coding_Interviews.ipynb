{
 "cells": [
  {
   "cell_type": "markdown",
   "metadata": {},
   "source": [
    "https://www.kdnuggets.com/2023/03/7-mustknow-python-tips-coding-interviews.html\n"
   ]
  },
  {
   "cell_type": "code",
   "execution_count": 1,
   "metadata": {},
   "outputs": [
    {
     "name": "stdout",
     "output_type": "stream",
     "text": [
      "[54, 33, 45, 19, 23, 90]\n"
     ]
    }
   ],
   "source": [
    "# 1. Reverse an Array in Place\n",
    " \n",
    "\n",
    "nums = [90,23,19,45,33,54]\n",
    "nums.reverse()\n",
    "print(nums)"
   ]
  },
  {
   "cell_type": "code",
   "execution_count": 3,
   "metadata": {},
   "outputs": [
    {
     "name": "stdout",
     "output_type": "stream",
     "text": [
      "[12, 23, 47, 67, 78, 94, 113]\n",
      "[113, 94, 78, 67, 47, 23, 12]\n"
     ]
    }
   ],
   "source": [
    "# 2. Sort Arrays and Customize Sorts\n",
    "nums = [23,67,12,78,94,113,47]\n",
    "nums.sort()\n",
    "print(nums)\n",
    "# To sort the list in descending order\n",
    "nums = [23,67,12,78,94,113,47]\n",
    "nums.sort(reverse=True)\n",
    "print(nums)"
   ]
  },
  {
   "cell_type": "markdown",
   "metadata": {},
   "source": [
    "List Comprehension Example\n",
    "\n",
    "list comprehension expressions of the form: [output for item in iterable if condition]."
   ]
  },
  {
   "cell_type": "code",
   "execution_count": 5,
   "metadata": {},
   "outputs": [
    {
     "name": "stdout",
     "output_type": "stream",
     "text": [
      "[15, 12, 90, 27]\n",
      "[0, 2, 4, 6]\n"
     ]
    }
   ],
   "source": [
    "nums = [15,12,90,27,10,34,26,77]\n",
    "div_by_3 = [num for num in nums if num%3==0]\n",
    "print(div_by_3)\n",
    "\n",
    "list1 = [i*2 for i in range(4)]\n",
    "print(list1)"
   ]
  }
 ],
 "metadata": {
  "kernelspec": {
   "display_name": "Python 3",
   "language": "python",
   "name": "python3"
  },
  "language_info": {
   "codemirror_mode": {
    "name": "ipython",
    "version": 3
   },
   "file_extension": ".py",
   "mimetype": "text/x-python",
   "name": "python",
   "nbconvert_exporter": "python",
   "pygments_lexer": "ipython3",
   "version": "3.12.1"
  }
 },
 "nbformat": 4,
 "nbformat_minor": 2
}
