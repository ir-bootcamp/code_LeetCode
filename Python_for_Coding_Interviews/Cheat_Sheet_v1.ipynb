{
 "cells": [
  {
   "cell_type": "markdown",
   "metadata": {},
   "source": [
    "https://neetcode.io/courses/lessons/python-for-coding-interviews\n",
    "https://www.youtube.com/watch?v=0K_eZGS5NsU&t=90s\n"
   ]
  },
  {
   "cell_type": "code",
   "execution_count": 1,
   "metadata": {},
   "outputs": [
    {
     "name": "stdout",
     "output_type": "stream",
     "text": [
      "n = 0\n",
      "n = abc\n"
     ]
    }
   ],
   "source": [
    "# Variables are dynamicly typed\n",
    "n = 0\n",
    "print('n =', n)\n",
    "n = \"abc\"\n",
    "print('n =', n)"
   ]
  },
  {
   "cell_type": "code",
   "execution_count": 2,
   "metadata": {},
   "outputs": [
    {
     "name": "stdout",
     "output_type": "stream",
     "text": [
      "0\n",
      "abc\n"
     ]
    }
   ],
   "source": [
    "# Multiple assignments\n",
    "n, m = 0, \"abc\"\n",
    "print (n)\n",
    "print (m)\n",
    "n, m, z = 0.125, \"abc\", False\n"
   ]
  },
  {
   "cell_type": "markdown",
   "metadata": {},
   "source": [
    "Increment\n",
    "n = n + 1 # good\n",
    "n += 1    # good"
   ]
  },
  {
   "cell_type": "code",
   "execution_count": 3,
   "metadata": {},
   "outputs": [],
   "source": [
    "# If-statements\n",
    "# If statements don't need parentheses \n",
    "# or curly braces.\n",
    "n = 1\n",
    "if n > 2:\n",
    "    n -= 1\n",
    "elif n == 2:\n",
    "    n *= 2\n",
    "else:\n",
    "    n += 2\n",
    "\n",
    "# Parentheses needed for multi-line conditions.\n",
    "# and = &&\n",
    "# or  = ||\n",
    "n, m = 1, 2\n",
    "if ((n > 2 and \n",
    "    n != m) or n == m):\n",
    "    n += 1\n"
   ]
  },
  {
   "cell_type": "code",
   "execution_count": null,
   "metadata": {},
   "outputs": [],
   "source": [
    "# Loops\n",
    "n = 6\n",
    "while n < 5:\n",
    "    print(n)\n",
    "    n -= 1\n",
    "\n",
    "print(\"~+~\"*5)\n",
    "# Looping from i = 0 to i = 4\n",
    "for i in range(5):\n",
    "    print(i)\n",
    "print(\"~+~\"*5)\n",
    "\n",
    "# Looping from i = 2 to i = 5\n",
    "for i in range(2, 6):\n",
    "    print(i)\n",
    "print(\"~+~\"*5)\n",
    "\n",
    "# Looping from i = 5 to i = 2\n",
    "for i in range(5, 1, -1):\n",
    "    print(i)\n",
    "print(\"~+~\"*5)\n"
   ]
  },
  {
   "cell_type": "code",
   "execution_count": 16,
   "metadata": {},
   "outputs": [
    {
     "name": "stdout",
     "output_type": "stream",
     "text": [
      "13\n",
      "12\n",
      "11\n",
      "10\n",
      "9\n",
      "8\n",
      "7\n",
      "6\n"
     ]
    }
   ],
   "source": [
    "n = 13\n",
    "while n > 5:\n",
    "    print(n)\n",
    "    n -= 1"
   ]
  },
  {
   "cell_type": "code",
   "execution_count": 2,
   "metadata": {},
   "outputs": [
    {
     "name": "stdout",
     "output_type": "stream",
     "text": [
      "2.5\n",
      "2\n",
      "1\n",
      "2\n"
     ]
    }
   ],
   "source": [
    "# Math\n",
    "# Division is decimal by default\n",
    "print(5 / 2)\n",
    "\n",
    "# Double slash rounds down\n",
    "print(5 // 2)\n",
    "# Modding is similar to most languages\n",
    "print(10 % 3)\n",
    "\n",
    "# Except for negative values!!!!\n",
    "print(-10 % 3)"
   ]
  },
  {
   "cell_type": "code",
   "execution_count": 3,
   "metadata": {},
   "outputs": [
    {
     "name": "stdout",
     "output_type": "stream",
     "text": [
      "[1, 2, 3]\n",
      "[1, 2, 3, 4, 5]\n",
      "[1, 2, 3, 4]\n",
      "[1, 7, 2, 3, 4]\n",
      "[0, 7, 2, 0, 4]\n",
      "[1, 1, 1, 1, 1]\n",
      "5\n",
      "3\n",
      "2\n",
      "[2, 3]\n",
      "[1, 2, 3, 4]\n",
      "[1, 2, 3, 4]\n",
      "1 2 3\n",
      "1\n",
      "2\n",
      "3\n",
      "1\n",
      "2\n",
      "3\n",
      "0 1\n",
      "1 2\n",
      "2 3\n",
      "1 2\n",
      "3 4\n",
      "5 6\n",
      "[3, 2, 1]\n",
      "[3, 4, 5, 7, 8]\n",
      "[8, 7, 5, 4, 3]\n",
      "['alice', 'bob', 'doe', 'jane']\n",
      "['bob', 'doe', 'jane', 'alice']\n",
      "[0, 1, 2, 3, 4]\n",
      "[[0, 0, 0, 0], [0, 0, 0, 0], [0, 0, 0, 0], [0, 0, 0, 0]]\n",
      "0 0\n"
     ]
    }
   ],
   "source": [
    "# Arrays\n",
    "# Arrays (called lists in python)\n",
    "arr = [1, 2, 3]\n",
    "print(arr)\n",
    "\n",
    "# Can be used as a stack\n",
    "arr.append(4)\n",
    "arr.append(5)\n",
    "print(arr)\n",
    "\n",
    "arr.pop()\n",
    "print(arr)\n",
    "\n",
    "arr.insert(1, 7)\n",
    "print(arr)\n",
    "\n",
    "arr[0] = 0\n",
    "arr[3] = 0\n",
    "print(arr)\n",
    "\n",
    "# Initialize arr of size n with default value of 1\n",
    "n = 5\n",
    "arr = [1] * n\n",
    "print(arr)\n",
    "print(len(arr))\n",
    "\n",
    "# Careful: -1 is not out of bounds, it's the last value\n",
    "arr = [1, 2, 3]\n",
    "print(arr[-1])\n",
    "\n",
    "# Indexing -2 is the second to last value, etc.\n",
    "print(arr[-2])\n",
    "\n",
    "# Sublists (aka slicing)\n",
    "arr = [1, 2, 3, 4]\n",
    "print(arr[1:3])\n",
    "\n",
    "# Similar to for-loop ranges, last index is non-inclusive\n",
    "print(arr[0:4])\n",
    "\n",
    "# But no out of bounds error\n",
    "print(arr[0:10])\n",
    "\n",
    "# Unpacking\n",
    "a, b, c = [1, 2, 3]\n",
    "print(a, b, c)\n",
    "\n",
    "# Be careful though\n",
    "# a, b = [1, 2, 3]\n",
    "\n",
    "# Loop through arrays\n",
    "nums = [1, 2, 3]\n",
    "\n",
    "# Using index\n",
    "for i in range(len(nums)):\n",
    "    print(nums[i])\n",
    "\n",
    "# Without index\n",
    "for n in nums:\n",
    "    print(n)\n",
    "\n",
    "# With index and value\n",
    "for i, n in enumerate(nums):\n",
    "    print(i, n)\n",
    "\n",
    "# Loop through multiple arrays simultaneously with unpacking\n",
    "nums1 = [1, 3, 5]\n",
    "nums2 = [2, 4, 6]\n",
    "for n1, n2 in zip(nums1, nums2):\n",
    "    print(n1, n2)\n",
    "\n",
    "# Reverse\n",
    "nums = [1, 2, 3]\n",
    "nums.reverse()\n",
    "print(nums)\n",
    "\n",
    "# Sorting\n",
    "arr = [5, 4, 7, 3, 8]\n",
    "arr.sort()\n",
    "print(arr)\n",
    "\n",
    "arr.sort(reverse=True)\n",
    "print(arr)\n",
    "\n",
    "arr = [\"bob\", \"alice\", \"jane\", \"doe\"]\n",
    "arr.sort()\n",
    "print(arr)\n",
    "\n",
    "# Custom sort (by length of string)\n",
    "arr.sort(key=lambda x: len(x))\n",
    "print(arr)\n",
    "\n",
    "\n",
    "# List comprehension\n",
    "arr = [i for i in range(5)]\n",
    "print(arr)\n",
    "\n",
    "# 2-D lists\n",
    "arr = [[0] * 4 for i in range(4)]\n",
    "print(arr)\n",
    "print(arr[0][0], arr[3][3])\n",
    "\n",
    "# This won't work\n",
    "# arr = [[0] * 4] * 4\n"
   ]
  },
  {
   "cell_type": "code",
   "execution_count": 4,
   "metadata": {},
   "outputs": [
    {
     "name": "stdout",
     "output_type": "stream",
     "text": [
      "[5, 5, 3, 2, 1]\n"
     ]
    }
   ],
   "source": [
    "# Reverse\n",
    "nums = [1, 2, 3, 5, 5]\n",
    "nums.reverse()\n",
    "print(nums)"
   ]
  }
 ],
 "metadata": {
  "kernelspec": {
   "display_name": "Python 3",
   "language": "python",
   "name": "python3"
  },
  "language_info": {
   "codemirror_mode": {
    "name": "ipython",
    "version": 3
   },
   "file_extension": ".py",
   "mimetype": "text/x-python",
   "name": "python",
   "nbconvert_exporter": "python",
   "pygments_lexer": "ipython3",
   "version": "3.12.1"
  }
 },
 "nbformat": 4,
 "nbformat_minor": 2
}
