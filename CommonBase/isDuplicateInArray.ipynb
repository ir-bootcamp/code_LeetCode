{
 "cells": [
  {
   "cell_type": "code",
   "execution_count": null,
   "metadata": {},
   "outputs": [],
   "source": []
  },
  {
   "cell_type": "code",
   "execution_count": 3,
   "metadata": {},
   "outputs": [
    {
     "name": "stdout",
     "output_type": "stream",
     "text": [
      "False\n",
      "~~~~~~~~~~\n",
      "True\n"
     ]
    }
   ],
   "source": [
    "# Проверка на дубликаты в плоском списке на Python\n",
    "\n",
    "my_list1 = [1, 2, 3, 4, 5, 6]\n",
    "my_list2 = [1, 2, 3, 3, 4, 5, 5, 6]\n",
    "\n",
    "has_duplicates = len(my_list1) > len(set(my_list1))\n",
    "print(has_duplicates)\n",
    "print(\"~\"*10)\n",
    "has_duplicates = len(my_list2) > len(set(my_list2))\n",
    "print(has_duplicates)"
   ]
  },
  {
   "cell_type": "code",
   "execution_count": 4,
   "metadata": {},
   "outputs": [
    {
     "data": {
      "text/plain": [
       "True"
      ]
     },
     "execution_count": 4,
     "metadata": {},
     "output_type": "execute_result"
    }
   ],
   "source": [
    "# Подводные камни -> set() работает только с хешируемыми типами данных. Нехешируемые типы, такие как списки или словари, не поддерживаются этим методом.\n",
    "# https://sky.pro/wiki/python/proverka-na-dublikaty-v-ploskom-spiske-na-python/\n",
    "\n",
    "def contains_duplicates(seq): \n",
    "    seen = []\n",
    "    return any(i in seen or seen.append(i) for i in seq)\n",
    "\n",
    "\n",
    "contains_duplicates([1, 2, 3, 3, 4, 5, 5, 6]) \n"
   ]
  },
  {
   "cell_type": "code",
   "execution_count": 1,
   "metadata": {},
   "outputs": [
    {
     "name": "stdout",
     "output_type": "stream",
     "text": [
      "{6: 2, 8: 1, 7: 2, 5: 2, 1: 1, 4: 2}\n"
     ]
    }
   ],
   "source": [
    "# Поиск одинаковых элементов в списке с помощью словаря\n",
    "unordered_list = [6, 6, 8, 7, 5, 1, 4, 5, 4, 7]\n",
    "duplicate_elements = {}\n",
    "\n",
    "for item in unordered_list:\n",
    "    if item in duplicate_elements:\n",
    "        duplicate_elements[item] += 1\n",
    "    else: \n",
    "        duplicate_elements[item] = 1\n",
    "\n",
    "print(duplicate_elements)"
   ]
  },
  {
   "cell_type": "code",
   "execution_count": 3,
   "metadata": {},
   "outputs": [
    {
     "data": {
      "text/plain": [
       "\"\\nkeys = ['firstKey', 'secondKey', 'thirdKey']\\nfor key in keys:\\n    myDictionary.get(key)\\n\\n#or a list comprehension:\\n\\n[myDictionary.get(key) for key in keys]\\n\""
      ]
     },
     "execution_count": 3,
     "metadata": {},
     "output_type": "execute_result"
    }
   ],
   "source": [
    "#Use a for loop:\n",
    "\"\"\"\n",
    "keys = ['firstKey', 'secondKey', 'thirdKey']\n",
    "for key in keys:\n",
    "    myDictionary.get(key)\n",
    "\n",
    "#or a list comprehension:\n",
    "\n",
    "[myDictionary.get(key) for key in keys]\n",
    "\"\"\""
   ]
  }
 ],
 "metadata": {
  "kernelspec": {
   "display_name": "Python 3",
   "language": "python",
   "name": "python3"
  },
  "language_info": {
   "codemirror_mode": {
    "name": "ipython",
    "version": 3
   },
   "file_extension": ".py",
   "mimetype": "text/x-python",
   "name": "python",
   "nbconvert_exporter": "python",
   "pygments_lexer": "ipython3",
   "version": "3.12.1"
  }
 },
 "nbformat": 4,
 "nbformat_minor": 2
}
