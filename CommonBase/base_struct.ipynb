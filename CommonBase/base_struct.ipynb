{
 "cells": [
  {
   "cell_type": "code",
   "execution_count": 13,
   "metadata": {},
   "outputs": [
    {
     "name": "stdout",
     "output_type": "stream",
     "text": [
      "True\n",
      "~~~~~~~~~~~~~~\n",
      "True\n",
      "~~~~~~~~~~~~~~\n"
     ]
    }
   ],
   "source": [
    "#None\n",
    "print (None == None)\n",
    "print (\"~~~~~~~~~~~~~~\")\n",
    "print (None is None)\n",
    "print (\"~~~~~~~~~~~~~~\")"
   ]
  },
  {
   "cell_type": "code",
   "execution_count": 14,
   "metadata": {},
   "outputs": [
    {
     "name": "stdout",
     "output_type": "stream",
     "text": [
      "n -> 0, m -> asd\n"
     ]
    }
   ],
   "source": [
    "n , m = 0, \"asd\"\n",
    "print (f\"n -> {n}, m -> {m}\")"
   ]
  },
  {
   "cell_type": "code",
   "execution_count": 19,
   "metadata": {},
   "outputs": [
    {
     "name": "stdout",
     "output_type": "stream",
     "text": [
      "4\n"
     ]
    }
   ],
   "source": [
    "n = 2\n",
    "\n",
    "if n > 2:\n",
    "    n -= 1\n",
    "elif n == 2:\n",
    "    n *= 2\n",
    "else:\n",
    "    n += 100\n",
    "\n",
    "print (n)\n"
   ]
  },
  {
   "cell_type": "code",
   "execution_count": 24,
   "metadata": {},
   "outputs": [
    {
     "name": "stdout",
     "output_type": "stream",
     "text": [
      "4\n"
     ]
    }
   ],
   "source": [
    "# Conditions\n",
    "n, m = 2, 2\n",
    "if ((n > 2 and n != m) or n == m):\n",
    "    print (n + m)"
   ]
  },
  {
   "cell_type": "code",
   "execution_count": 28,
   "metadata": {},
   "outputs": [
    {
     "name": "stdout",
     "output_type": "stream",
     "text": [
      "2\n",
      "2.5\n",
      "1\n"
     ]
    }
   ],
   "source": [
    "print(5 // 2)\n",
    "print(5 / 2)\n",
    "print(5 % 2)\n"
   ]
  }
 ],
 "metadata": {
  "kernelspec": {
   "display_name": "Python 3",
   "language": "python",
   "name": "python3"
  },
  "language_info": {
   "codemirror_mode": {
    "name": "ipython",
    "version": 3
   },
   "file_extension": ".py",
   "mimetype": "text/x-python",
   "name": "python",
   "nbconvert_exporter": "python",
   "pygments_lexer": "ipython3",
   "version": "3.12.1"
  }
 },
 "nbformat": 4,
 "nbformat_minor": 2
}
