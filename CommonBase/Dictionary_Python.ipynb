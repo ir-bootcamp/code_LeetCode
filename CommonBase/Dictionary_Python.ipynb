{
 "cells": [
  {
   "cell_type": "code",
   "execution_count": 8,
   "metadata": {},
   "outputs": [
    {
     "name": "stdout",
     "output_type": "stream",
     "text": [
      "b\n"
     ]
    }
   ],
   "source": [
    "# как как вывести ключ по максимальному значению\n",
    "\n",
    "my_dict = {'a': 10, 'b': 25, 'c': 7, 'd': 25}\n",
    "\n",
    "key_with_max_value = max(my_dict, key=my_dict.get)\n",
    "print(key_with_max_value)"
   ]
  },
  {
   "cell_type": "code",
   "execution_count": 10,
   "metadata": {},
   "outputs": [
    {
     "name": "stdout",
     "output_type": "stream",
     "text": [
      "10\n",
      "Not in dict\n",
      "dict_keys(['a', 'b', 'c', 'd'])\n",
      "dict_values([10, 25, 7, 25])\n",
      "~~~~~~~~~~\n",
      "b\n"
     ]
    },
    {
     "ename": "TypeError",
     "evalue": "dict.values() takes no arguments (1 given)",
     "output_type": "error",
     "traceback": [
      "\u001b[0;31m---------------------------------------------------------------------------\u001b[0m",
      "\u001b[0;31mTypeError\u001b[0m                                 Traceback (most recent call last)",
      "Cell \u001b[0;32mIn[10], line 10\u001b[0m\n\u001b[1;32m      8\u001b[0m key_with_max_value \u001b[38;5;241m=\u001b[39m \u001b[38;5;28mmax\u001b[39m(my_dict, key\u001b[38;5;241m=\u001b[39mmy_dict\u001b[38;5;241m.\u001b[39mget)\n\u001b[1;32m      9\u001b[0m \u001b[38;5;28mprint\u001b[39m(key_with_max_value)\n\u001b[0;32m---> 10\u001b[0m key_with_max_key \u001b[38;5;241m=\u001b[39m \u001b[38;5;28;43mmax\u001b[39;49m\u001b[43m(\u001b[49m\u001b[43mmy_dict\u001b[49m\u001b[43m,\u001b[49m\u001b[43m \u001b[49m\u001b[43mkey\u001b[49m\u001b[38;5;241;43m=\u001b[39;49m\u001b[43mmy_dict\u001b[49m\u001b[38;5;241;43m.\u001b[39;49m\u001b[43mvalues\u001b[49m\u001b[43m)\u001b[49m\n\u001b[1;32m     11\u001b[0m \u001b[38;5;28mprint\u001b[39m(key_with_max_key)\n",
      "\u001b[0;31mTypeError\u001b[0m: dict.values() takes no arguments (1 given)"
     ]
    }
   ],
   "source": [
    "my_dict = {'a': 10, 'b': 25, 'c': 7, 'd': 25}\n",
    "\n",
    "print (my_dict.get(\"a\", \"Not in dict\"))\n",
    "print (my_dict.get(\"m\", \"Not in dict\"))\n",
    "print (my_dict.keys())\n",
    "print (my_dict.values())\n",
    "print(\"~\"*10)\n",
    "key_with_max_value = max(my_dict, key=my_dict.get)\n",
    "print(key_with_max_value)\n",
    "key_with_max_key = max(my_dict, key=my_dict.values)\n",
    "print(key_with_max_key)"
   ]
  },
  {
   "cell_type": "markdown",
   "metadata": {},
   "source": [
    "Если есть несколько ключей с одинаковым максимальным значением, функция вернет только первый ключ, который она найдет.\n",
    "Чтобы получить все такие ключи, можно сделать так:"
   ]
  },
  {
   "cell_type": "code",
   "execution_count": 2,
   "metadata": {},
   "outputs": [
    {
     "name": "stdout",
     "output_type": "stream",
     "text": [
      "Ключи с максимальным значением: ['b', 'd']\n"
     ]
    }
   ],
   "source": [
    "# Найти все ключи с максимальным значением\n",
    "my_dict = {'a': 10, 'b': 25, 'c': 7, 'd': 25}\n",
    "\n",
    "max_value = max(my_dict.values())\n",
    "keys_with_max_value = [k for k, v in my_dict.items() if v == max_value]\n",
    "\n",
    "print(f\"Ключи с максимальным значением: {keys_with_max_value}\")"
   ]
  },
  {
   "cell_type": "markdown",
   "metadata": {},
   "source": [
    "Counter — из модуля collections"
   ]
  },
  {
   "cell_type": "code",
   "execution_count": 5,
   "metadata": {},
   "outputs": [
    {
     "name": "stdout",
     "output_type": "stream",
     "text": [
      "Counter({'d': 4, 'l': 3, 'o': 2, 'h': 1, 'e': 1, ' ': 1, 'w': 1, 'r': 1})\n"
     ]
    }
   ],
   "source": [
    "from collections import Counter\n",
    "\n",
    "# Считаем частоту символов в строке\n",
    "text = \"hello worldddd\"\n",
    "counter = Counter(text)\n",
    "print(counter)"
   ]
  },
  {
   "cell_type": "markdown",
   "metadata": {},
   "source": [
    "#### Основные методы и операции Counter:\n",
    "from collections import Counter\n",
    "Можно передать любую итерируемую последовательность:\n",
    "\n",
    "Counter([1, 2, 2, 3, 3, 3])  # Counter({3: 3, 2: 2, 1: 1})\n",
    "Или словарь:\n",
    "Counter({'a': 2, 'b': 3})  # Counter({'b': 3, 'a': 2})\n",
    "\n",
    "##### most_common(n): Возвращает n наиболее часто встречающихся элементов.\n",
    "counter = Counter(\"hello world\")\n",
    "print(counter.most_common(2))  # [('l', 3), ('o', 2)]\n",
    "\n",
    "##### elements(): Возвращает все элементы с учетом их частоты.\n",
    "counter = Counter({'a': 2, 'b': 1})\n",
    "print(list(counter.elements()))  # ['a', 'a', 'b']\n",
    "\n",
    "###### subtract(): Уменьшает счетчики на основе другого словаря или Counter.\n",
    "\n",
    "counter = Counter({'a': 3, 'b': 2})\n",
    "counter.subtract({'a': 1, 'b': 3})\n",
    "print(counter)  # Counter({'a': 2, 'b': -1})\n"
   ]
  },
  {
   "cell_type": "code",
   "execution_count": null,
   "metadata": {},
   "outputs": [],
   "source": []
  }
 ],
 "metadata": {
  "kernelspec": {
   "display_name": "Python 3",
   "language": "python",
   "name": "python3"
  },
  "language_info": {
   "codemirror_mode": {
    "name": "ipython",
    "version": 3
   },
   "file_extension": ".py",
   "mimetype": "text/x-python",
   "name": "python",
   "nbconvert_exporter": "python",
   "pygments_lexer": "ipython3",
   "version": "3.12.1"
  }
 },
 "nbformat": 4,
 "nbformat_minor": 2
}
