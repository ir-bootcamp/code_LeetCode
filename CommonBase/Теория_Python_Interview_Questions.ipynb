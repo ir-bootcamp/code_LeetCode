{
 "cells": [
  {
   "cell_type": "markdown",
   "metadata": {},
   "source": [
    "https://www.geeksforgeeks.org/python-interview-questions/?ref=shm\n"
   ]
  },
  {
   "cell_type": "markdown",
   "metadata": {},
   "source": [
    "19. What is a Variable Scope in Python?\n",
    "The location where we can find a variable and also access it if required is called the scope of a variable.\n",
    "\n",
    "Python Local variable: Local variables are those that are initialized within a function and are unique to that function. It cannot be accessed outside of the function.\n",
    "Python Global variables: Global variables are the ones that are defined and declared outside any function and are not specified to any function.\n",
    "Module-level scope: It refers to the global objects of the current module accessible in the program.\n",
    "Outermost scope: It refers to any built-in names that the program can call. The name referenced is located last among the objects in this scope."
   ]
  },
  {
   "cell_type": "markdown",
   "metadata": {},
   "source": []
  }
 ],
 "metadata": {
  "language_info": {
   "name": "python"
  }
 },
 "nbformat": 4,
 "nbformat_minor": 2
}
