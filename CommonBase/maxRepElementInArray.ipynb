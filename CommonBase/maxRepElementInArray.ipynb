{
 "cells": [
  {
   "cell_type": "code",
   "execution_count": 3,
   "metadata": {},
   "outputs": [
    {
     "name": "stdout",
     "output_type": "stream",
     "text": [
      "Counter({'Bob': 2, 'Alex': 1, 'John': 1})\n",
      "{'Bob': 2, 'Alex': 1, 'John': 1}\n",
      "['Bob', 'Alex', 'John']\n"
     ]
    }
   ],
   "source": [
    "array = [\"Bob\", \"Alex\", \"Bob\", \"John\"] \n",
    "from collections import Counter\n",
    "\n",
    "c = Counter(array)\n",
    "print (c)\n",
    "\n",
    "print (dict(c))\n",
    "print (list(c))"
   ]
  }
 ],
 "metadata": {
  "kernelspec": {
   "display_name": "Python 3",
   "language": "python",
   "name": "python3"
  },
  "language_info": {
   "codemirror_mode": {
    "name": "ipython",
    "version": 3
   },
   "file_extension": ".py",
   "mimetype": "text/x-python",
   "name": "python",
   "nbconvert_exporter": "python",
   "pygments_lexer": "ipython3",
   "version": "3.12.1"
  }
 },
 "nbformat": 4,
 "nbformat_minor": 2
}
