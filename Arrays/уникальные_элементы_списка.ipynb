{
 "cells": [
  {
   "cell_type": "markdown",
   "metadata": {},
   "source": [
    "Как получить уникальные элементы списка python"
   ]
  },
  {
   "cell_type": "code",
   "execution_count": 3,
   "metadata": {},
   "outputs": [
    {
     "name": "stdout",
     "output_type": "stream",
     "text": [
      "{1, 2, 3, 4, 9}\n",
      "[1, 2, 3, 4, 9]\n"
     ]
    }
   ],
   "source": [
    "numbers = [9, 9, 9, 1, 1, 2, 3, 3, 4]\n",
    "# numbers = [1, 2, 3, 4]\n",
    "\n",
    "unique_numbers = set(numbers) \n",
    "print (unique_numbers)\n",
    "print (list(unique_numbers))"
   ]
  },
  {
   "cell_type": "code",
   "execution_count": 4,
   "metadata": {},
   "outputs": [
    {
     "name": "stdout",
     "output_type": "stream",
     "text": [
      "[9, 1, 2, 3, 4]\n"
     ]
    }
   ],
   "source": [
    "numbers = [9, 9, 9, 1, 1, 2, 3, 3, 4]\n",
    "def get_unique_numbers(numbers):\n",
    "    list_of_unique_numbers = []\n",
    "    #unique_numbers = set(numbers)\n",
    "\n",
    "    for number in numbers:\n",
    "        if number not in list_of_unique_numbers:\n",
    "            list_of_unique_numbers.append(number)\n",
    "\n",
    "    return list_of_unique_numbers\n",
    "\n",
    "print(get_unique_numbers(numbers))"
   ]
  },
  {
   "cell_type": "code",
   "execution_count": 5,
   "metadata": {},
   "outputs": [
    {
     "name": "stdout",
     "output_type": "stream",
     "text": [
      "[20, 30, 40]\n"
     ]
    }
   ],
   "source": [
    "numbers = [20, 20, 30, 30, 40]\n",
    "\n",
    "def get_unique_numbers(numbers):\n",
    "    unique = []\n",
    "\n",
    "    for number in numbers:\n",
    "        if number in unique:\n",
    "            continue\n",
    "        else:\n",
    "            unique.append(number)\n",
    "    return unique\n",
    "\n",
    "print(get_unique_numbers(numbers))"
   ]
  },
  {
   "cell_type": "code",
   "execution_count": 6,
   "metadata": {},
   "outputs": [],
   "source": [
    "numbers = [20, 20, 30, 30, 40]\n",
    "\n",
    "def get_unique_numbers(numbers):\n",
    "    unique = []\n",
    "    for number in numbers:\n",
    "        if number not in unique:\n",
    "            unique.append(number)\n",
    "    return unique"
   ]
  },
  {
   "cell_type": "code",
   "execution_count": 8,
   "metadata": {},
   "outputs": [
    {
     "name": "stdout",
     "output_type": "stream",
     "text": [
      "{20: None, 30: None, 40: None}\n",
      "[20, 30, 40]\n"
     ]
    }
   ],
   "source": [
    "numbers = [20, 20, 30, 30, 40]\n",
    "\n",
    "my_dict = dict.fromkeys(numbers)\n",
    "print (my_dict)\n",
    "\n",
    "unique_list = list(dict.fromkeys(numbers))\n",
    "print (unique_list)"
   ]
  }
 ],
 "metadata": {
  "kernelspec": {
   "display_name": "Python 3",
   "language": "python",
   "name": "python3"
  },
  "language_info": {
   "codemirror_mode": {
    "name": "ipython",
    "version": 3
   },
   "file_extension": ".py",
   "mimetype": "text/x-python",
   "name": "python",
   "nbconvert_exporter": "python",
   "pygments_lexer": "ipython3",
   "version": "3.12.1"
  }
 },
 "nbformat": 4,
 "nbformat_minor": 2
}
