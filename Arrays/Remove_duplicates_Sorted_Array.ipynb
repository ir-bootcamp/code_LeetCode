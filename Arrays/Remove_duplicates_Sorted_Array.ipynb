{
 "cells": [
  {
   "cell_type": "markdown",
   "metadata": {},
   "source": [
    "Use a hash set or dictionary to store elements already processed\n",
    "Initialize index of result array as 0.\n",
    "Traverse through the input array. If an element is not in the hash set, put it at the result index and insert into the set."
   ]
  },
  {
   "cell_type": "code",
   "execution_count": null,
   "metadata": {},
   "outputs": [],
   "source": [
    "def removeDuplicates(arr):\n",
    "    \n",
    "    # To track seen elements\n",
    "    seen = set()\n",
    "    \n",
    "    # To maintain the new size of the array\n",
    "    idx = 0\n",
    "\n",
    "    for i in range(len(arr)):\n",
    "        if arr[i] not in seen:\n",
    "            seen.add(arr[i])\n",
    "            arr[idx] = arr[i]\n",
    "            idx += 1\n",
    "\n",
    "    # Return the size of the array \n",
    "    # with unique elements\n",
    "    return idx"
   ]
  },
  {
   "cell_type": "markdown",
   "metadata": {},
   "source": [
    "Start with idx = 1 (idx is going to hold the index of the next distinct item. Since there is nothing before the first item, we consider it as the first distinct item and begin idx with 1.\n",
    "Loop through the array for i = 0 to n-1.\n",
    "At each index i, if arr[i] is different from arr[i-1], assign arr[idx] = arr[i] and increment idx.\n",
    "After the loop, arr[] contains the unique elements in the first idx positions."
   ]
  },
  {
   "cell_type": "markdown",
   "metadata": {},
   "source": [
    "def removeDuplicates(arr):\n",
    "    n = len(arr)\n",
    "    if n <= 1:\n",
    "        return n\n",
    "\n",
    "    # Start from the second element\n",
    "    idx = 1  \n",
    "    \n",
    "    for i in range(1, n):\n",
    "        if arr[i] != arr[i - 1]:\n",
    "            arr[idx] = arr[i]\n",
    "            idx += 1\n",
    "\n",
    "    return idx\n"
   ]
  },
  {
   "cell_type": "markdown",
   "metadata": {},
   "source": []
  },
  {
   "cell_type": "code",
   "execution_count": null,
   "metadata": {},
   "outputs": [],
   "source": [
    "def removeDuplicates(self, nums: List[int]) -> int:\n",
    "    for i in range(len(nums)-1, 0, -1):\n",
    "        if nums[i] == nums[i-1]:\n",
    "            del nums[i]\n",
    "    #return (nums)\n",
    "    return len(nums)"
   ]
  },
  {
   "cell_type": "markdown",
   "metadata": {},
   "source": [
    "Вход: массив nums, отсортированный по возрастанию.\n",
    "Цель: удалить все дубликаты \"на месте\" (без использования дополнительного массива) так, чтобы каждый элемент встречался только один раз, и вернуть длину итогового массива.\n",
    "Логика алгоритма:\n",
    "Мы используем цикл, проходящий с конца массива к началу. Это сделано для того, чтобы избежать проблем с индексами при удалении элементов.\n",
    "На каждой итерации проверяется: является ли текущий элемент равным предыдущему (nums[i] == nums[i-1]).\n",
    "Если дубликат найден, он удаляется с помощью операции del nums[i].\n",
    "\n",
    "Анализ сложности\n",
    "1. Временная сложность:\n",
    "Основной цикл проходит по всем элементам массива с конца до начала, что занимает 𝑂(𝑛)\n",
    "O(n) итераций.\n",
    "Однако каждая операция удаления (del nums[i]) имеет временную сложность 𝑂(𝑛)\n",
    "O(n), так как после удаления элементы массива сдвигаются.\n",
    "В худшем случае (когда все элементы массива дублируются), мы совершаем 𝑂(𝑛^2) операций.\n",
    "\n",
    "Сложность по памяти:\n",
    "Алгоритм работает \"на месте\", используя только входной массив, без выделения дополнительной памяти.\n",
    "Следовательно, потребление памяти составляет 𝑂 (1)\n",
    "O(1), если не учитывать входной массив.\n",
    "\n",
    "https://www.geeksforgeeks.org/remove-duplicates-sorted-array/"
   ]
  },
  {
   "cell_type": "markdown",
   "metadata": {},
   "source": [
    "Недостатки и оптимизация\n",
    "Это решение неэффективно, так как удаление элементов приводит к большому числу сдвигов в массиве, увеличивая временную сложность до 𝑂(𝑛^2).\n",
    "\n",
    "Оптимизированный подход:\n",
    "Можно избежать удаления элементов и добиться линейной сложности \n",
    "O(n), используя указатель для записи уникальных элементов:"
   ]
  },
  {
   "cell_type": "code",
   "execution_count": null,
   "metadata": {},
   "outputs": [],
   "source": [
    "class Solution:\n",
    "    \"\"\"\n",
    "    def removeDuplicates(self, nums: List[int]) -> int:\n",
    "        for i in range(len(nums)-1, 0, -1):\n",
    "            if nums[i] == nums[i-1]:\n",
    "                del nums[i]\n",
    "        #return (nums)\n",
    "        return len(nums)\n",
    "    \"\"\"\n",
    "    def removeDuplicates(self, nums: List[int]) -> int:\n",
    "        if not nums:\n",
    "            return 0\n",
    "\n",
    "        # Указатель для уникальных элементов\n",
    "        write_index = 1\n",
    "\n",
    "        # Проходим по массиву\n",
    "        for i in range(1, len(nums)):\n",
    "            if nums[i] != nums[i - 1]:\n",
    "                nums[write_index] = nums[i]\n",
    "                write_index += 1\n",
    "        \n",
    "        return write_index"
   ]
  },
  {
   "cell_type": "markdown",
   "metadata": {},
   "source": [
    "Почему это так?\n",
    "Инициализация write_index:\n",
    "\n",
    "Начальное значение write_index равно 1, так как первый элемент массива всегда считается уникальным.\n",
    "Логика работы:\n",
    "\n",
    "Каждый раз, когда мы находим уникальный элемент (nums[i] != nums[i - 1]), мы записываем его на позицию, указываемую write_index, и увеличиваем write_index на единицу.\n",
    "Таким образом, write_index отслеживает количество уникальных элементов, записанных в начало массива.\n",
    "Итоговое значение write_index:\n",
    "\n",
    "После завершения прохода по массиву write_index указывает на позицию следующую за последним уникальным элементом.\n",
    "Это означает, что количество уникальных элементов равно write_index.\n",
    "Пример для наглядности\n",
    "Входной массив:\n",
    "python\n",
    "Копировать\n",
    "Редактировать\n",
    "nums = [1, 1, 2, 3, 3]\n",
    "Шаги алгоритма:\n",
    "Начало:\n",
    "\n",
    "write_index = 1\n",
    "Итерация 1 (i = 1):\n",
    "\n",
    "nums[1] == nums[0] → дубликат.\n",
    "write_index остается 1.\n",
    "Итерация 2 (i = 2):\n",
    "\n",
    "nums[2] != nums[1] → уникальный элемент.\n",
    "nums[1] = nums[2] → [1, 2, 2, 3, 3]\n",
    "write_index = 2\n",
    "Итерация 3 (i = 3):\n",
    "\n",
    "nums[3] != nums[2] → уникальный элемент.\n",
    "nums[2] = nums[3] → [1, 2, 3, 3, 3]\n",
    "write_index = 3\n",
    "Итерация 4 (i = 4):\n",
    "\n",
    "nums[4] == nums[3] → дубликат.\n",
    "write_index остается 3.\n",
    "Результат:\n",
    "Модифицированный массив: [1, 2, 3, 3, 3]\n",
    "Уникальные элементы: [1, 2, 3]\n",
    "Количество уникальных элементов = write_index = 3\n",
    "Возвращаемое значение\n",
    "Значение write_index указывает, сколько уникальных элементов было записано в начало массива, что эквивалентно количеству уникальных элементов в nums.\n",
    "\n",
    "Ответ: Да, return write_index действительно возвращает количество уникальных элементов в массиве nums."
   ]
  }
 ],
 "metadata": {
  "language_info": {
   "name": "python"
  }
 },
 "nbformat": 4,
 "nbformat_minor": 2
}
