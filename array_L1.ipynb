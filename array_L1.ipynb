{
 "cells": [
  {
   "cell_type": "code",
   "execution_count": 6,
   "metadata": {},
   "outputs": [
    {
     "name": "stdout",
     "output_type": "stream",
     "text": [
      "1\n",
      "8\n",
      "8\n",
      "8\n",
      "9\n",
      "~~~~~~~~~~~~~~~~~~~~~~~~~~~~~~~~~\n",
      "5\n",
      "~~~~~~~~~~~~~~~~~~~~~~~~~~~~~~~~~\n",
      "1\n",
      "8\n",
      "8\n",
      "8\n",
      "9\n",
      "~~~~~~~~~~~~~~~~~~~~~~~~~~~~~~~~~\n",
      "[0, 1, 2, 3, 4, 5, 6, 7, 8, 9]\n"
     ]
    }
   ],
   "source": [
    "#array = [1, 2, 3, 4, 5, 5, 6, 7, 8, 8, 8, 9]\n",
    "array = [1, 8, 8, 8, 9]\n",
    "\n",
    "for num in array:\n",
    "    print(num)\n",
    "\n",
    "print (\"~~~~~~~~~~~~~~~~~~~~~~~~~~~~~~~~~\")\n",
    "print (len(array))\n",
    "print (\"~~~~~~~~~~~~~~~~~~~~~~~~~~~~~~~~~\")\n",
    "\n",
    "# Использование индекса\n",
    "for i in range(len(array)):\n",
    "    print(array[i])\n",
    "print (\"~~~~~~~~~~~~~~~~~~~~~~~~~~~~~~~~~\")\n",
    "lwe = list(range(10))\n",
    "print (lwe) "
   ]
  },
  {
   "cell_type": "code",
   "execution_count": 9,
   "metadata": {},
   "outputs": [
    {
     "ename": "SyntaxError",
     "evalue": "invalid syntax (1082047635.py, line 2)",
     "output_type": "error",
     "traceback": [
      "\u001b[0;36m  Cell \u001b[0;32mIn[9], line 2\u001b[0;36m\u001b[0m\n\u001b[0;31m    assert is instance(prices, list) and len(prices) > 0\u001b[0m\n\u001b[0m           ^\u001b[0m\n\u001b[0;31mSyntaxError\u001b[0m\u001b[0;31m:\u001b[0m invalid syntax\n"
     ]
    }
   ],
   "source": [
    "prices = \"1212\"\n",
    "assert isinstance(prices, list) and len(prices) > 0"
   ]
  },
  {
   "cell_type": "code",
   "execution_count": 5,
   "metadata": {},
   "outputs": [
    {
     "name": "stdout",
     "output_type": "stream",
     "text": [
      "Counter({4: 5, 3: 3, 2: 2, 1: 1})\n",
      "4\n",
      "dict_values([1, 2, 3, 5])\n"
     ]
    }
   ],
   "source": [
    "from collections import Counter\n",
    "nums = [1, 2, 2, 3, 3, 3, 4, 4, 4, 4, 4]\n",
    "count = Counter(nums)\n",
    "print (count)\n",
    "most_common = max(count, key=count.get)\n",
    "print(most_common)\n",
    "print (count.values())"
   ]
  },
  {
   "cell_type": "code",
   "execution_count": 8,
   "metadata": {},
   "outputs": [
    {
     "name": "stdout",
     "output_type": "stream",
     "text": [
      "Counter({4: 5, 3: 3, 2: 2, 1: 1})\n"
     ]
    }
   ],
   "source": [
    "from collections import Counter\n",
    "nums = [1, 2, 2, 3, 3, 3, 4, 4, 4, 4, 4]\n",
    "count = Counter(nums)\n",
    "print (count)"
   ]
  },
  {
   "cell_type": "code",
   "execution_count": 7,
   "metadata": {},
   "outputs": [
    {
     "data": {
      "text/plain": [
       "[1, 2, 3]"
      ]
     },
     "execution_count": 7,
     "metadata": {},
     "output_type": "execute_result"
    }
   ],
   "source": [
    "def unique(iterable, seen=None):\n",
    "    seen = set(seen or []) # None --- falsy.\n",
    "    acc = []\n",
    "    for item in iterable:\n",
    "        if item not in seen:\n",
    "            seen.add(item)\n",
    "            acc.append(item)\n",
    "    return acc\n",
    "\n",
    "xs = [1, 1, 2, 3]\n",
    "unique(xs)"
   ]
  },
  {
   "cell_type": "code",
   "execution_count": 7,
   "metadata": {},
   "outputs": [
    {
     "name": "stdout",
     "output_type": "stream",
     "text": [
      "9\n",
      "9\n",
      "8\n",
      "3\n",
      "Элемент с максимальным количеством вхождений: 8\n",
      "Количество вхождений: 8\n"
     ]
    }
   ],
   "source": [
    "my2_list = [1, 2, 3, 4, 4, 4, 5, 6, 6, 7, 8, 8, 8, 8, 8, 8, 8, 9]\n",
    "\n",
    "mpv = max(my2_list)\n",
    "key_m = my2_list.count\n",
    "print (mpv)\n",
    "\n",
    "my2_list = [1, 2, 3, 4, 4, 4, 5, 6, 6, 7, 8, 8, 8, 8, 8, 8, 8, 8, 8, 8, 9]\n",
    "print (max(my2_list))\n",
    "print (max(my2_list, key=my2_list.count))\n",
    "\n",
    "print (my2_list.count(4))\n",
    "\n",
    "\n",
    "most_frequent_element = max(my2_list, key=my2_list.count)\n",
    "\n",
    "# Считаем, сколько раз этот элемент встретился\n",
    "count_of_most_frequent = my2_list.count(most_frequent_element)\n",
    "\n",
    "# Выводим результат\n",
    "print(f\"Элемент с максимальным количеством вхождений: {most_frequent_element}\")\n",
    "print(f\"Количество вхождений: {count_of_most_frequent}\")"
   ]
  }
 ],
 "metadata": {
  "kernelspec": {
   "display_name": "Python 3",
   "language": "python",
   "name": "python3"
  },
  "language_info": {
   "codemirror_mode": {
    "name": "ipython",
    "version": 3
   },
   "file_extension": ".py",
   "mimetype": "text/x-python",
   "name": "python",
   "nbconvert_exporter": "python",
   "pygments_lexer": "ipython3",
   "version": "3.12.1"
  }
 },
 "nbformat": 4,
 "nbformat_minor": 2
}
