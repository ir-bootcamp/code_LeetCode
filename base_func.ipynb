{
 "cells": [
  {
   "cell_type": "code",
   "execution_count": 8,
   "metadata": {},
   "outputs": [
    {
     "name": "stdout",
     "output_type": "stream",
     "text": [
      "{1: 'Geeks', 2: 'For', 3: 'Geeks'}\n",
      "~~~~~~~~~~~~~~~\n",
      "1\n",
      "Geeks\n",
      "2\n",
      "For\n",
      "3\n",
      "Geeks\n",
      "~~~~~~~~~~~~~~~\n",
      "Geeks\n"
     ]
    }
   ],
   "source": [
    "# dict\n",
    "\n",
    "d1 = {1: 'Geeks', 2: 'For', 3: 'Geeks'}\n",
    "print (d1)\n",
    "print (\"~~~~~~~~~~~~~~~\")\n",
    "for k in d1:\n",
    "    print (k)\n",
    "    print (d1.get(k))\n",
    "print (\"~~~~~~~~~~~~~~~\")\n",
    "print (d1.get(1))\n",
    "\n"
   ]
  },
  {
   "cell_type": "code",
   "execution_count": 9,
   "metadata": {},
   "outputs": [
    {
     "data": {
      "text/plain": [
       "-5"
      ]
     },
     "execution_count": 9,
     "metadata": {},
     "output_type": "execute_result"
    }
   ],
   "source": [
    "def min(x, y):\n",
    "    return x if x < y else y\n",
    "\n",
    "min (-5, 7)"
   ]
  }
 ],
 "metadata": {
  "kernelspec": {
   "display_name": "Python 3",
   "language": "python",
   "name": "python3"
  },
  "language_info": {
   "codemirror_mode": {
    "name": "ipython",
    "version": 3
   },
   "file_extension": ".py",
   "mimetype": "text/x-python",
   "name": "python",
   "nbconvert_exporter": "python",
   "pygments_lexer": "ipython3",
   "version": "3.12.1"
  }
 },
 "nbformat": 4,
 "nbformat_minor": 2
}
