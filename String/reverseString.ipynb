{
 "cells": [
  {
   "cell_type": "code",
   "execution_count": 20,
   "metadata": {},
   "outputs": [
    {
     "data": {
      "text/plain": [
       "'gfsdasa'"
      ]
     },
     "execution_count": 20,
     "metadata": {},
     "output_type": "execute_result"
    }
   ],
   "source": [
    "def reverseString(self, str1: str):\n",
    "    return (s[::-1])\n",
    "reverseString(None, \"assdfg\") # 'gfsdasa'"
   ]
  },
  {
   "cell_type": "code",
   "execution_count": null,
   "metadata": {},
   "outputs": [],
   "source": []
  },
  {
   "cell_type": "code",
   "execution_count": 22,
   "metadata": {},
   "outputs": [
    {
     "data": {
      "text/plain": [
       "['o', 'l', 'l', 'e', 'h']"
      ]
     },
     "execution_count": 22,
     "metadata": {},
     "output_type": "execute_result"
    }
   ],
   "source": [
    "from typing import List\n",
    "def reverseString(self, s: List[str]) -> None:\n",
    "    \"\"\"\n",
    "    Do not return anything, modify s in-place instead.\n",
    "    \"\"\"\n",
    "    return (s[::-1])\n",
    "s = [\"h\", \"e\", \"l\", \"l\", \"o\"]\n",
    "reverseString(None, s)"
   ]
  },
  {
   "cell_type": "code",
   "execution_count": 14,
   "metadata": {},
   "outputs": [
    {
     "name": "stdout",
     "output_type": "stream",
     "text": [
      "gfsdasa\n"
     ]
    }
   ],
   "source": [
    "def reverseString(s: str) -> str:\n",
    "# Преобразуем строку в список символов, переворачиваем и соединяем обратно в строку\n",
    "    return s[::-1]\n",
    "\n",
    "# Пример использования\n",
    "s = \"asadsfg\"\n",
    "reversed_s = reverseString(s)\n",
    "print(reversed_s)  # Вывод: \"gfsdasa\"\n"
   ]
  },
  {
   "cell_type": "code",
   "execution_count": 23,
   "metadata": {},
   "outputs": [
    {
     "name": "stdout",
     "output_type": "stream",
     "text": [
      "['h', 'e', 'l', 'l', 'o']\n",
      "None\n",
      "['o', 'l', 'l', 'e', 'h']\n"
     ]
    }
   ],
   "source": [
    "#from typing import List\n",
    "\n",
    "s = [\"h\",\"e\",\"l\",\"l\",\"o\"]\n",
    "#def reverseString(s: List[str]):\n",
    "def reverseString(s):\n",
    "    for i in range(len(s)//2):\n",
    "        s[i], s[~i] = s[~i], s[i]\n",
    "print (s)\n",
    "print (reverseString(s))\n",
    "print (s)\n"
   ]
  },
  {
   "cell_type": "code",
   "execution_count": 13,
   "metadata": {},
   "outputs": [
    {
     "name": "stdout",
     "output_type": "stream",
     "text": [
      "['o', 'l', 'l', 'e', 'h']\n"
     ]
    }
   ],
   "source": [
    "def reverseString(self, s) -> None:\n",
    "    for i in range(len(s)//2):\n",
    "        s[i], s[~i] = s[~i], s[i]\n",
    "    #s[i], s[len(s) - 1 - i] = s[len(s) - 1 - i], s[i]\n",
    "\n",
    "s = [\"h\", \"e\", \"l\", \"l\", \"o\"]\n",
    "reverseString(None, s)\n",
    "print (s) # ['o', 'l', 'l', 'e', 'h']"
   ]
  },
  {
   "cell_type": "code",
   "execution_count": 13,
   "metadata": {},
   "outputs": [
    {
     "name": "stdout",
     "output_type": "stream",
     "text": [
      "['o', 'l', 'l', 'e', 'h']\n",
      "['e', 'u', 'l', 'b', ' ', 's', 'i', ' ', 'y', 'k', 's', ' ', 'e', 'h', 't']\n"
     ]
    }
   ],
   "source": [
    "s = [\"h\", \"e\", \"l\", \"l\", \"o\"]\n",
    "def reverseString(self, s) -> None:\n",
    "    for i in range(len(s)//2):\n",
    "        s[i], s[len(s) - 1 - i] = s[len(s) - 1 - i], s[i]\n",
    "\n",
    "reverseString(None, s)\n",
    "print (s) # ['o', 'l', 'l', 'e', 'h']\n",
    "\n",
    "\n",
    "s2 = \"the sky is blue\"\n",
    "s2_list = list(s2)\n",
    "reverseString(None, s2_list)\n",
    "print(s2_list)\n"
   ]
  },
  {
   "cell_type": "code",
   "execution_count": 1,
   "metadata": {},
   "outputs": [
    {
     "data": {
      "text/plain": [
       "'blue is sky the'"
      ]
     },
     "execution_count": 1,
     "metadata": {},
     "output_type": "execute_result"
    }
   ],
   "source": [
    "# Reverse Words in a String\n",
    "def reverseWords(self, s: str) -> str:\n",
    "    wordsWithoutWhitespace = s.split() # ['the', 'sky', 'is', 'blue']\n",
    "    reversedWords = wordsWithoutWhitespace[::-1] # ['blue', 'is', 'sky', 'the']\n",
    "    final = \" \".join(reversedWords) # blue is sky the\n",
    "    return final\n",
    "s = \"the sky is blue\"\n",
    "reverseWords(None, s) # 'blue is sky the'"
   ]
  }
 ],
 "metadata": {
  "kernelspec": {
   "display_name": "Python 3",
   "language": "python",
   "name": "python3"
  },
  "language_info": {
   "codemirror_mode": {
    "name": "ipython",
    "version": 3
   },
   "file_extension": ".py",
   "mimetype": "text/x-python",
   "name": "python",
   "nbconvert_exporter": "python",
   "pygments_lexer": "ipython3",
   "version": "3.12.1"
  }
 },
 "nbformat": 4,
 "nbformat_minor": 2
}
