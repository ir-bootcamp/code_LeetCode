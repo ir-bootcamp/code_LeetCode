{
 "cells": [
  {
   "cell_type": "code",
   "execution_count": 20,
   "metadata": {},
   "outputs": [
    {
     "name": "stdout",
     "output_type": "stream",
     "text": [
      "~~~~~~~~~\n"
     ]
    },
    {
     "data": {
      "text/plain": [
       "['h', 'e', 'l', 'l', 'o']"
      ]
     },
     "execution_count": 20,
     "metadata": {},
     "output_type": "execute_result"
    }
   ],
   "source": [
    "#def reverseString(self, s) -> None:\n",
    "def reverseString(self, str1: str):\n",
    "    \"\"\"\n",
    "    Do not return anything, modify s in-place instead.\n",
    "    \"\"\"\n",
    "    #s = s[::-1]\n",
    "    return (s[::-1])\n",
    "\n",
    "reverseString(None, [\"a\", \"b\", \"c\", \"d\"])\n",
    "print (\"~~~~~~~~~\")\n",
    "reverseString(None, \"assdfg\")"
   ]
  },
  {
   "cell_type": "code",
   "execution_count": 21,
   "metadata": {},
   "outputs": [
    {
     "data": {
      "text/plain": [
       "['o', 'l', 'l', 'e', 'h']"
      ]
     },
     "execution_count": 21,
     "metadata": {},
     "output_type": "execute_result"
    }
   ],
   "source": [
    "from typing import List\n",
    "def reverseString(self, s: List[str]) -> None:\n",
    "    \"\"\"\n",
    "    Do not return anything, modify s in-place instead.\n",
    "    \"\"\"\n",
    "    #s = s[::-1]\n",
    "    return (s[::-1])\n",
    "\n",
    "s = [\"h\", \"e\", \"l\", \"l\", \"o\"]\n",
    "\n",
    "reverseString(None, s)"
   ]
  },
  {
   "cell_type": "code",
   "execution_count": 22,
   "metadata": {},
   "outputs": [
    {
     "name": "stdout",
     "output_type": "stream",
     "text": [
      "gfsdasa\n"
     ]
    }
   ],
   "source": [
    "def reverseString(s: str) -> str:\n",
    "    # Преобразуем строку в список символов, переворачиваем и соединяем обратно в строку\n",
    "    return s[::-1]\n",
    "\n",
    "# Пример использования\n",
    "s = \"asadsfg\"\n",
    "reversed_s = reverseString(s)\n",
    "print(reversed_s)  # Вывод: \"gfsdasa\"\n"
   ]
  },
  {
   "cell_type": "code",
   "execution_count": 10,
   "metadata": {},
   "outputs": [
    {
     "name": "stdout",
     "output_type": "stream",
     "text": [
      "['h', 'e', 'l', 'l', 'o']\n",
      "None\n",
      "['o', 'l', 'l', 'e', 'h']\n"
     ]
    }
   ],
   "source": [
    "from typing import List\n",
    "\n",
    "s = [\"h\",\"e\",\"l\",\"l\",\"o\"]\n",
    "def reverseString(s: List[str]):\n",
    "    for i in range(len(s)//2):\n",
    "        s[i], s[~i] = s[~i], s[i]\n",
    "print (s)\n",
    "print (reverseString(s))\n",
    "print (s)\n"
   ]
  },
  {
   "cell_type": "code",
   "execution_count": 13,
   "metadata": {},
   "outputs": [
    {
     "name": "stdout",
     "output_type": "stream",
     "text": [
      "['o', 'l', 'l', 'e', 'h']\n"
     ]
    }
   ],
   "source": [
    "def reverseString(self, s) -> None:\n",
    "    for i in range(len(s)//2):\n",
    "        s[i], s[~i] = s[~i], s[i]\n",
    "\n",
    "s = [\"h\", \"e\", \"l\", \"l\", \"o\"]\n",
    "\n",
    "reverseString(None, s)\n",
    "print (s)"
   ]
  },
  {
   "cell_type": "code",
   "execution_count": 23,
   "metadata": {},
   "outputs": [
    {
     "name": "stdout",
     "output_type": "stream",
     "text": [
      "['o', 'l', 'l', 'e', 'h']\n"
     ]
    }
   ],
   "source": [
    "def reverseString(self, s) -> None:\n",
    "    for i in range(len(s)//2):\n",
    "        s[i], s[len(s) - 1 - i] = s[len(s) - 1 - i], s[i]\n",
    "\n",
    "s = [\"h\", \"e\", \"l\", \"l\", \"o\"]\n",
    "\n",
    "reverseString(None, s)\n",
    "print (s)"
   ]
  }
 ],
 "metadata": {
  "kernelspec": {
   "display_name": "Python 3",
   "language": "python",
   "name": "python3"
  },
  "language_info": {
   "codemirror_mode": {
    "name": "ipython",
    "version": 3
   },
   "file_extension": ".py",
   "mimetype": "text/x-python",
   "name": "python",
   "nbconvert_exporter": "python",
   "pygments_lexer": "ipython3",
   "version": "3.12.1"
  }
 },
 "nbformat": 4,
 "nbformat_minor": 2
}
