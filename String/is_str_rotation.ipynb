{
 "cells": [
  {
   "cell_type": "code",
   "execution_count": 13,
   "metadata": {},
   "outputs": [
    {
     "name": "stdout",
     "output_type": "stream",
     "text": [
      "eliesetenelieseten\n",
      "not rotation not annogramm\n"
     ]
    }
   ],
   "source": [
    "#  является ли одна строка вращением (rotation) другой \n",
    "# Удавоение строки\n",
    "\n",
    "##st1 = \"asdfgh\"\n",
    "##st2 = \"fghasd\"\n",
    "\n",
    "#print(are_anagrams(\"elieseten\", \"seilenete\"))\n",
    "st1 = \"elieseten\"\n",
    "st2 = \"seilenete\"\n",
    "str_concat = st1*2 #asdfghasdfgh\n",
    "#annogram\n",
    "\n",
    "print(str_concat)\n",
    "\n",
    "if st2 in str_concat:\n",
    "    print (\"It is rotation (annogram)\")\n",
    "else:\n",
    "    print (\"not rotation not annogramm\")"
   ]
  },
  {
   "cell_type": "code",
   "execution_count": 14,
   "metadata": {},
   "outputs": [
    {
     "name": "stdout",
     "output_type": "stream",
     "text": [
      " is annogram  True\n",
      "True\n"
     ]
    }
   ],
   "source": [
    "# not rotation but Anograma \n",
    "# версия функции с приведением строк к нижнему регистру перед сортировкой:\n",
    "def are_anagrams(s1: str, s2: str) -> bool:\n",
    "    #return ''.join(sorted(s1.lower())) == ''.join(sorted(s2.lower()))\n",
    "    print (f\" is annogram  {''.join(sorted(s1.lower())) == ''.join(sorted(s2.lower()))}\")\n",
    "    return ''.join(sorted(s1.lower())) == ''.join(sorted(s2.lower()))\n",
    "st1 = \"elieseten\"\n",
    "st2 = \"seilenete\"\n",
    "\n",
    "print(are_anagrams(st1, st2))\n"
   ]
  },
  {
   "cell_type": "code",
   "execution_count": 15,
   "metadata": {},
   "outputs": [
    {
     "name": "stdout",
     "output_type": "stream",
     "text": [
      "True\n",
      "True\n",
      "False\n"
     ]
    }
   ],
   "source": [
    "# is_rotation\n",
    "#Расширение задачи:\n",
    "# Если строки содержат пробелы, или нужно учитывать регистр, можно предварительно обработать их:\n",
    "\n",
    "def is_rotation(s1: str, s2: str) -> bool:\n",
    "    # Удаляем пробелы по краям и объединяем внутренние пробелы\n",
    "    s1 = ''.join(s1.split()).lower()\n",
    "    s2 = ''.join(s2.split()).lower()\n",
    "    \n",
    "    # Если длины строк не равны, одна не может быть вращением другой\n",
    "    if len(s1) != len(s2):\n",
    "        return False\n",
    "\n",
    "    # Проверяем, содержится ли s2 в s1 + s1\n",
    "    return s2 in (s1 + s1)\n",
    "\n",
    "print(is_rotation(\"WaterBottle\", \"erbottlewat\"))  # Вывод: True\n",
    "print(is_rotation(\" Hello \", \"llo He\"))           # Вывод: True\n",
    "print(is_rotation(\"Hello\", \"loHe\"))               # Вывод: False"
   ]
  },
  {
   "cell_type": "code",
   "execution_count": 16,
   "metadata": {},
   "outputs": [],
   "source": [
    "def is_rotation_with_pointers(string1: str, string2: str) -> str:\n",
    "    # Проверка длины строк\n",
    "    if len(string1) != len(string2):\n",
    "        return \"Is not rotation\"\n",
    "\n",
    "    # Найти индекс первого символа string1[0] в string2\n",
    "    start_index = string2.find(string1[0])\n",
    "    if start_index == -1:  # Если символа нет, строка не является вращением\n",
    "        return \"Is not rotation\"\n",
    "\n",
    "    # Инициализация указателей\n",
    "    p_str1 = 0\n",
    "    p_str2 = start_index\n",
    "\n",
    "    # Проверяем символы обеих строк\n",
    "    for _ in range(len(string1)):\n",
    "        if string1[p_str1] != string2[p_str2]:\n",
    "            return \"Is not rotation\"\n",
    "\n",
    "        # Сдвигаем указатели\n",
    "        p_str1 += 1\n",
    "        p_str2 = (p_str2 + 1) % len(string2)  # Циклический переход в string2\n",
    "\n",
    "    return \"It is rotation\""
   ]
  },
  {
   "cell_type": "code",
   "execution_count": 19,
   "metadata": {},
   "outputs": [
    {
     "name": "stdout",
     "output_type": "stream",
     "text": [
      "5\n"
     ]
    },
    {
     "data": {
      "text/plain": [
       "'It is rotation'"
      ]
     },
     "execution_count": 19,
     "metadata": {},
     "output_type": "execute_result"
    }
   ],
   "source": [
    "string1 = \"helloworld\"\n",
    "string2 = \"worldhello\"\n",
    "\n",
    "\n",
    "\n",
    "def is_rotation(string1: str, string2: str):\n",
    "    if len(string1) != len(string2):\n",
    "        return \"It is not rotation\"\n",
    "    # Удаляем пробелы по краям и объединяем внутренние пробелы\n",
    "    string1 = ''.join(string1.split()).lower()\n",
    "    string2 = ''.join(string2.split()).lower()\n",
    "\n",
    "    p_str1 = 0\n",
    "    p_str2 = string2.find(string1[p_str1])   #p_str2 = string2.find(string1[0])\n",
    "            #p_str2 = string2.find(string1[0])\n",
    "            #p_str1_value = string1[0]\n",
    "            #print (p_str1_value)\n",
    "            #p_str2 = string2.find(p_str1_value)\n",
    "    print (p_str2)\n",
    "\n",
    "    for _ in range(len(string1)):\n",
    "        if string1[p_str1] != string2[p_str2]:\n",
    "            return \"It is not rotation\"\n",
    "        # move pointers\n",
    "        p_str1 +=1\n",
    "        p_str2 = (p_str2 + 1) % len(string2) # Циклический переход в string2\n",
    "\n",
    "    return \"It is rotation\"\n",
    "        \n",
    "is_rotation(string1, string2)\n",
    "\n",
    "\n"
   ]
  }
 ],
 "metadata": {
  "kernelspec": {
   "display_name": "Python 3",
   "language": "python",
   "name": "python3"
  },
  "language_info": {
   "codemirror_mode": {
    "name": "ipython",
    "version": 3
   },
   "file_extension": ".py",
   "mimetype": "text/x-python",
   "name": "python",
   "nbconvert_exporter": "python",
   "pygments_lexer": "ipython3",
   "version": "3.12.1"
  }
 },
 "nbformat": 4,
 "nbformat_minor": 2
}
