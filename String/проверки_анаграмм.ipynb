{
 "cells": [
  {
   "cell_type": "code",
   "execution_count": null,
   "metadata": {},
   "outputs": [],
   "source": [
    "# https://pythonpip.ru/examples/4-metoda-dlya-poiska-i-proverki-anagramm-v-python"
   ]
  },
  {
   "cell_type": "code",
   "execution_count": 1,
   "metadata": {},
   "outputs": [
    {
     "name": "stdout",
     "output_type": "stream",
     "text": [
      "True\n"
     ]
    }
   ],
   "source": [
    "def anagramCheck2(str1,str2): \n",
    "    # Convert string into lists \n",
    "    list1 = list(str1) \n",
    "    list2 = list(str2) \n",
    "    # Sort the list value \n",
    "    list1.sort() \n",
    "    list2.sort() \n",
    " \n",
    "    position = 0 \n",
    "    matches = True \n",
    " \n",
    "    while position < len(str1) and matches: \n",
    "        if list1[position]==list2[position]: \n",
    "            position = position + 1 \n",
    "        else: \n",
    "            matches = False \n",
    " \n",
    "    return matches \n",
    " \n",
    "print(anagramCheck2('python','ythonp')) \n"
   ]
  }
 ],
 "metadata": {
  "kernelspec": {
   "display_name": "Python 3",
   "language": "python",
   "name": "python3"
  },
  "language_info": {
   "codemirror_mode": {
    "name": "ipython",
    "version": 3
   },
   "file_extension": ".py",
   "mimetype": "text/x-python",
   "name": "python",
   "nbconvert_exporter": "python",
   "pygments_lexer": "ipython3",
   "version": "3.12.1"
  }
 },
 "nbformat": 4,
 "nbformat_minor": 2
}
