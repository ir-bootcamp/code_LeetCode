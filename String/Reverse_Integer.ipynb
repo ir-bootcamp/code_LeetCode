{
 "cells": [
  {
   "cell_type": "markdown",
   "metadata": {},
   "source": [
    "Given a signed 32-bit integer x, return x with its digits reversed. If reversing x causes the value to go outside the signed 32-bit integer range [-231, 231 - 1], then return 0.\n",
    "Assume the environment does not allow you to store 64-bit integers (signed or unsigned).\n",
    "\n",
    "---\n",
    "\n",
    "Если число x переворачивается и выходит за пределы диапазона 32-битного числа:\n",
    "Диапазон: [-2³¹, 2³¹ - 1] → [-2147483648, 2147483647].\n",
    "Если перевёрнутое число выходит за эти пределы, вернуть 0.\n",
    "Нужно правильно обработать как положительные, так и отрицательные числа."
   ]
  },
  {
   "cell_type": "code",
   "execution_count": null,
   "metadata": {},
   "outputs": [],
   "source": [
    "\n",
    "class Solution:\n",
    "    def reverse(self, x: int) -> int:\n",
    "        # Определяем, является ли число отрицательным\n",
    "        is_negative = x < 0\n",
    "        \n",
    "        # Берём модуль числа (убираем знак) и переворачиваем его\n",
    "        reversed_x = int(str(abs(x))[::-1])\n",
    "        \n",
    "        # Если число было отрицательным, добавляем знак \"-\"\n",
    "        if is_negative:\n",
    "            reversed_x = -reversed_x\n",
    "        \n",
    "        # Проверяем, попадает ли число в диапазон 32-битных целых\n",
    "        if reversed_x < -2**31 or reversed_x > 2**31 - 1:\n",
    "            return 0\n",
    "        \n",
    "        return reversed_x"
   ]
  },
  {
   "cell_type": "code",
   "execution_count": 1,
   "metadata": {},
   "outputs": [
    {
     "name": "stdout",
     "output_type": "stream",
     "text": [
      "456\n",
      "456\n",
      "654\n"
     ]
    }
   ],
   "source": [
    "x = -456\n",
    "print (abs(x)) # = 456\n",
    "print (str(abs(x))) # = 456\n",
    "\n",
    "reversed_x = int(str(abs(x))[::-1])\n",
    "print (reversed_x) # = 654"
   ]
  },
  {
   "cell_type": "markdown",
   "metadata": {},
   "source": [
    "Оптимизация:\n",
    "\n",
    "Хотя данное решение достаточно эффективное, его можно улучшить по памяти, избегая создания строк. \n",
    "Например, вместо преобразования числа в строку можно переворачивать число математически, обрабатывая его цифры:"
   ]
  },
  {
   "cell_type": "code",
   "execution_count": null,
   "metadata": {},
   "outputs": [],
   "source": [
    "class Solution:\n",
    "    def reverse(self, x: int) -> int:\n",
    "        result = 0\n",
    "        is_negative = x < 0\n",
    "        x = abs(x)\n",
    "\n",
    "        while x != 0:\n",
    "            digit = x % 10  # Берём последнюю цифру\n",
    "            result = result * 10 + digit  # Добавляем её в результат\n",
    "            x //= 10  # Убираем последнюю цифру\n",
    "\n",
    "        if is_negative:\n",
    "            result = -result\n",
    "\n",
    "        # Проверка на диапазон 32-битного числа\n",
    "        if result < -2**31 or result > 2**31 - 1:\n",
    "            return 0\n",
    "\n",
    "        return result"
   ]
  },
  {
   "cell_type": "markdown",
   "metadata": {},
   "source": [
    "1. Инициализация:\n",
    "\n",
    "result = 0\n",
    "is_negative = x < 0\n",
    "x = abs(x)\n",
    "\n",
    "result — это переменная, в которую будет записан перевёрнутый результат. Начинаем с 0.\n",
    "\n",
    "is_negative проверяет, является ли число отрицательным. Если x < 0, это True.\n",
    "x = abs(x) берёт модуль числа, чтобы игнорировать знак (знак добавляется обратно позже)."
   ]
  },
  {
   "cell_type": "markdown",
   "metadata": {},
   "source": [
    "    def reverse(self, x: int) -> int:\n",
    "        result = 0\n",
    "        is_negative = x < 0\n",
    "        x = abs(x)\n",
    "\n",
    "        while x != 0:\n",
    "            digit = x % 10  # Берём последнюю цифру\n",
    "            result = result * 10 + digit  # Добавляем её в результат\n",
    "            x //= 10  # Убираем последнюю цифр"
   ]
  }
 ],
 "metadata": {
  "kernelspec": {
   "display_name": "Python 3",
   "language": "python",
   "name": "python3"
  },
  "language_info": {
   "codemirror_mode": {
    "name": "ipython",
    "version": 3
   },
   "file_extension": ".py",
   "mimetype": "text/x-python",
   "name": "python",
   "nbconvert_exporter": "python",
   "pygments_lexer": "ipython3",
   "version": "3.12.1"
  }
 },
 "nbformat": 4,
 "nbformat_minor": 2
}
