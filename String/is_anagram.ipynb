{
 "cells": [
  {
   "cell_type": "code",
   "execution_count": 3,
   "metadata": {},
   "outputs": [
    {
     "name": "stdout",
     "output_type": "stream",
     "text": [
      "adfghs\n",
      "asdfgh\n"
     ]
    }
   ],
   "source": [
    "st1 = \"asdfgh\"\n",
    "st2 = \"fghasd\"\n",
    "st1 = ''.join(sorted(st1))\n",
    "st2 = ''.join(sorted(st2))\n",
    "print(sorted_s)\n",
    "\n",
    "#st1.sort(key=None, reverse=False)\n",
    "print(st1)"
   ]
  },
  {
   "cell_type": "code",
   "execution_count": 5,
   "metadata": {},
   "outputs": [
    {
     "name": "stdout",
     "output_type": "stream",
     "text": [
      "adefqrs\n"
     ]
    }
   ],
   "source": [
    "# Приведение к единому регистру перед сортировкой\n",
    "s = \"aSdFeQr\"\n",
    "sorted_s = ''.join(sorted(s.lower()))\n",
    "print(sorted_s)  # Вывод: \"adefqrs\""
   ]
  },
  {
   "cell_type": "code",
   "execution_count": 7,
   "metadata": {},
   "outputs": [
    {
     "name": "stdout",
     "output_type": "stream",
     "text": [
      "True\n",
      "False\n"
     ]
    }
   ],
   "source": [
    "# являются ли две строки анаграммами\n",
    "def are_anagrams(s1: str, s2: str) -> bool:\n",
    "    return ''.join(sorted(s1)) == ''.join(sorted(s2))\n",
    "\n",
    "print(are_anagrams(\"listen\", \"silent\"))  # Вывод: True\n",
    "print(are_anagrams(\"hello\", \"world\"))   # Вывод: False"
   ]
  },
  {
   "cell_type": "code",
   "execution_count": 21,
   "metadata": {},
   "outputs": [
    {
     "name": "stdout",
     "output_type": "stream",
     "text": [
      "True\n",
      "False\n",
      "True\n",
      "True\n",
      "True\n",
      "~~~~~~~~~~~~~~~~\n",
      "False\n"
     ]
    }
   ],
   "source": [
    "# версия функции с приведением строк к нижнему регистру перед сортировкой:\n",
    "def are_anagrams(s1: str, s2: str) -> bool:\n",
    "    return ''.join(sorted(s1.lower())) == ''.join(sorted(s2.lower()))\n",
    "\n",
    "print(are_anagrams(\"Listen\", \"Silent\"))  # Вывод: True\n",
    "print(are_anagrams(\"Hello\", \"World\"))   # Вывод: False\n",
    "\n",
    "print(are_anagrams(\"School Master\", \"The Classroom\"))  # Вывод: False\n",
    "\n",
    "\n",
    "\n",
    "print(are_anagrams(\"Lieseten\", \"Seilenet\"))\n",
    "print(are_anagrams(\"elieseten\", \"seilenete\"))\n",
    "#print(are_anagrams(\"Lieseten\", \"Leilenet\"))\n",
    "print (\"~~~~~~~~~~~~~~~~\")\n",
    "print (\"elieseten\" in \"seileneteseilenete\" )"
   ]
  },
  {
   "cell_type": "code",
   "execution_count": 11,
   "metadata": {},
   "outputs": [
    {
     "name": "stdout",
     "output_type": "stream",
     "text": [
      "True\n",
      "False\n",
      "True\n"
     ]
    }
   ],
   "source": [
    "#Заметка:\n",
    "#Если в строках могут быть пробелы или другие символы, их нужно удалить перед сравнением. Для этого можно добавить метод replace():\n",
    "\n",
    "\n",
    "def are_anagrams(s1: str, s2: str) -> bool:\n",
    "    s1 = s1.lower().replace(\" \", \"\")\n",
    "    s2 = s2.lower().replace(\" \", \"\")\n",
    "    return ''.join(sorted(s1)) == ''.join(sorted(s2))\n",
    "\n",
    "print(are_anagrams(\"Listen\", \"Silent\"))  # Вывод: True\n",
    "print(are_anagrams(\"Hello\", \"World\"))   # Вывод: False\n",
    "\n",
    "print(are_anagrams(\"School Master\", \"The Classroom\"))  # Вывод: True"
   ]
  },
  {
   "cell_type": "code",
   "execution_count": null,
   "metadata": {},
   "outputs": [],
   "source": [
    "#Проверка, являются ли два числа \"анаграммами\"\n",
    "def are_number_anagrams(n1: int, n2: int) -> bool:\n",
    "    return sorted(str(n1)) == sorted(str(n2))"
   ]
  },
  {
   "cell_type": "code",
   "execution_count": 1,
   "metadata": {},
   "outputs": [
    {
     "name": "stdout",
     "output_type": "stream",
     "text": [
      "True\n",
      "False\n"
     ]
    }
   ],
   "source": [
    "from collections import Counter\n",
    "\n",
    "def is_anagram(str1, str2):\n",
    "    return Counter(str1) == Counter(str2)\n",
    "\n",
    "print(is_anagram(\"listen\", \"silent\"))  # True\n",
    "print(is_anagram(\"hello\", \"world\"))   # False"
   ]
  }
 ],
 "metadata": {
  "kernelspec": {
   "display_name": "Python 3",
   "language": "python",
   "name": "python3"
  },
  "language_info": {
   "codemirror_mode": {
    "name": "ipython",
    "version": 3
   },
   "file_extension": ".py",
   "mimetype": "text/x-python",
   "name": "python",
   "nbconvert_exporter": "python",
   "pygments_lexer": "ipython3",
   "version": "3.12.1"
  }
 },
 "nbformat": 4,
 "nbformat_minor": 2
}
