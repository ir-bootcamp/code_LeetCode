{
 "cells": [
  {
   "cell_type": "code",
   "execution_count": 3,
   "metadata": {},
   "outputs": [
    {
     "name": "stdout",
     "output_type": "stream",
     "text": [
      "1\n",
      "2\n",
      "3\n",
      "4\n",
      "5\n",
      "~~~~~~~~~~~~~~~~~~~~~\n",
      "1\n",
      "2\n",
      "3\n",
      "4\n",
      "5\n",
      "~~~~~~~~~~~~~~~~~~~~~\n",
      "index 0 has value 1\n",
      "index 1 has value 2\n",
      "index 2 has value 3\n",
      "index 3 has value 4\n",
      "index 4 has value 5\n",
      "Index: 0, Value: 1\n",
      "Index: 1, Value: 2\n",
      "Index: 2, Value: 3\n",
      "Index: 3, Value: 4\n",
      "Index: 4, Value: 5\n"
     ]
    }
   ],
   "source": [
    "array = [1, 2, 3, 4, 5]\n",
    "\n",
    "# Простой проход по массиву\n",
    "for num in array:\n",
    "    print(num)\n",
    "print(\"~~~~~~~~~~~~~~~~~~~~~\") \n",
    "\n",
    "# Использование индекса\n",
    "for i in range(len(array)):\n",
    "    print(array[i])\n",
    "print(\"~~~~~~~~~~~~~~~~~~~~~\") \n",
    "# Использование индекса\n",
    "for i in range(len(array)):\n",
    "    print(f\"index {i} has value {array[i]}\")\n",
    "\n",
    "# Использование enumerate для индекса и значения\n",
    "for i, num in enumerate(array):\n",
    "    print(f\"Index: {i}, Value: {num}\")"
   ]
  }
 ],
 "metadata": {
  "kernelspec": {
   "display_name": "Python 3",
   "language": "python",
   "name": "python3"
  },
  "language_info": {
   "codemirror_mode": {
    "name": "ipython",
    "version": 3
   },
   "file_extension": ".py",
   "mimetype": "text/x-python",
   "name": "python",
   "nbconvert_exporter": "python",
   "pygments_lexer": "ipython3",
   "version": "3.12.1"
  }
 },
 "nbformat": 4,
 "nbformat_minor": 2
}
