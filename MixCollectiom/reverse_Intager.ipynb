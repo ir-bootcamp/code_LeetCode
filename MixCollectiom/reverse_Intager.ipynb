{
 "cells": [
  {
   "cell_type": "markdown",
   "metadata": {},
   "source": []
  },
  {
   "cell_type": "code",
   "execution_count": null,
   "metadata": {},
   "outputs": [],
   "source": [
    "class Solution:\n",
    "    \"\"\"\n",
    "    def reverse(self, x: int) -> int:\n",
    "        # Определяем, является ли число отрицательным\n",
    "        is_negative = x < 0\n",
    "        \n",
    "        # Берём модуль числа (убираем знак) и переворачиваем его\n",
    "        reversed_x = int(str(abs(x))[::-1])\n",
    "        \n",
    "        # Если число было отрицательным, добавляем знак \"-\"\n",
    "        if is_negative:\n",
    "            reversed_x = -reversed_x\n",
    "        \n",
    "        # Проверяем, попадает ли число в диапазон 32-битных целых\n",
    "        if reversed_x < -2**31 or reversed_x > 2**31 - 1:\n",
    "            return 0\n",
    "        \n",
    "        return reversed_x\n",
    "     \"\"\"\n",
    "    def reverse(self, x: int) -> int:\n",
    "        result = 0\n",
    "        is_negative = x < 0\n",
    "        x = abs(x)\n",
    "\n",
    "        while x != 0:\n",
    "            digit = x % 10  # Берём последнюю цифру\n",
    "            result = result * 10 + digit  # Добавляем её в результат\n",
    "            x //= 10  # Убираем последнюю цифру\n",
    "\n",
    "        if is_negative:\n",
    "            result = -result\n",
    "\n",
    "        # Проверка на диапазон 32-битного числа\n",
    "        if result < -2**31 or result > 2**31 - 1:\n",
    "            return 0\n",
    "\n",
    "        return result    "
   ]
  },
  {
   "cell_type": "code",
   "execution_count": null,
   "metadata": {},
   "outputs": [],
   "source": [
    "class Solution:\n",
    "    def reverse(self, x: int) -> int:\n",
    "        sign = [1, -1][x < 0]\n",
    "        rev, x = 0, abs(x)\n",
    "        while x:\n",
    "            x, mod = divmod(x, 10)\n",
    "            rev = rev * 10 + mod\n",
    "            if rev > 2**31 - 1:\n",
    "                return 0\n",
    "        return sign * rev"
   ]
  }
 ],
 "metadata": {
  "language_info": {
   "name": "python"
  }
 },
 "nbformat": 4,
 "nbformat_minor": 2
}
