{
 "cells": [
  {
   "cell_type": "markdown",
   "metadata": {},
   "source": [
    "Question:\n",
    "Write a function that, when passed a list and a target sum, returns, efficiently \n",
    "with respect to time used, two distinct zero-based indices of any two of the numbers, \n",
    "whose sum is equal to the target sum. If there are no two numbers, the function should \n",
    "return None.\n",
    "\n",
    "For example, find_two_sum([3, 1, 5, 7, 5, 9], 10) should return a single tuple containing \n",
    "any of the following pairs of indices:\n",
    "\n",
    "- 0 and 3 (or 3 and 0) as 3 + 7 = 10\n",
    "- 1 and 5 (or 5 and 1) as 1 + 9 = 10\n",
    "0- 2 and 4 (or 4 and 2) as 5 + 5 = 10\n",
    "\n",
    "######## Start Original script ########\n",
    "\n",
    "def find_two_sum(numbers, target_sum):\n",
    "     \"\"\"\n",
    "     :param numbers: (list of ints) The list of numbers.\n",
    "     :param target_sum: (int) The required target sum.\n",
    "     :returns: (a tuple of 2 ints) The indices of the two elements whose sum is equal to target_sum\n",
    "     \"\"\"\n",
    "     return None\n",
    "\n",
    "print(find_two_sum([3, 1, 5, 7, 5, 9], 10))"
   ]
  },
  {
   "cell_type": "code",
   "execution_count": null,
   "metadata": {},
   "outputs": [],
   "source": [
    "def find_two_sum(numbers, target_sum):\n",
    "    \"\"\"\n",
    "    :param numbers: (list of ints) The list of numbers.\n",
    "    :param target_sum: (int) The required target sum.\n",
    "    :returns: (a tuple of 2 ints) The indices of the two elements whose sum is equal to target_sum\n",
    "    \"\"\"\n",
    "    cpt = 0\n",
    "    numbers = set(numbers)\n",
    "\n",
    "    # To be changed - this is disgusting\n",
    "    for n in numbers:\n",
    "        cpt2 = 0\n",
    "        for n2 in numbers[numbers.index(n) + 1:]:\n",
    "            if n + n2 == target_sum:\n",
    "                return tuple([cpt, numbers.index(n) + 1 + cpt2])\n",
    "            cpt2 += 1\n",
    "        cpt += 1\n",
    "\n",
    "    return None\n",
    "\n",
    "print(find_two_sum([5, 5], 10))"
   ]
  }
 ],
 "metadata": {
  "language_info": {
   "name": "python"
  }
 },
 "nbformat": 4,
 "nbformat_minor": 2
}
