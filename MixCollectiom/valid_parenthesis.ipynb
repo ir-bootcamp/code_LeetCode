{
 "cells": [
  {
   "cell_type": "markdown",
   "metadata": {},
   "source": []
  },
  {
   "cell_type": "code",
   "execution_count": null,
   "metadata": {},
   "outputs": [],
   "source": [
    "class Solution:\n",
    "    def isEqual(self, c1, c2) -> bool:\n",
    "        if(c1 == '(' and c2 == ')'):\n",
    "            return True\n",
    "        if(c1 == '[' and c2 == ']'):\n",
    "            return True\n",
    "        if(c1 == '{' and c2 == '}'):\n",
    "            return True\n",
    "        return False\n",
    "\n",
    "    def isValid(self, s: str) -> bool:\n",
    "        st = []\n",
    "        for character in s:\n",
    "            if(len(st) != 0):\n",
    "                li = st[-1]\n",
    "                if(self.isEqual(li, character)):\n",
    "                    st.pop()\n",
    "                    continue\n",
    "            st.append(characrer)\n",
    "        return len(st) == 0"
   ]
  }
 ],
 "metadata": {
  "language_info": {
   "name": "python"
  }
 },
 "nbformat": 4,
 "nbformat_minor": 2
}
