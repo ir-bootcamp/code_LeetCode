{
 "cells": [
  {
   "cell_type": "markdown",
   "metadata": {},
   "source": [
    "Question:\n",
    "Implement the IceCreamMachine's scoops method so that it returns all \n",
    "combinations of one ingredient and one topping. If there are no ingredients \n",
    "or toppings, the method should return an empty list.\n",
    "\n",
    "For example, IceCreamMachine([\"vanilla\", \"chocolate\"], [\"chocolate sauce\"]).scoops() \n",
    "should return [['vanilla', 'chocolate sauce'], ['chocolate', 'chocolate sauce']].\n",
    "\n"
   ]
  },
  {
   "cell_type": "code",
   "execution_count": 1,
   "metadata": {},
   "outputs": [
    {
     "name": "stdout",
     "output_type": "stream",
     "text": [
      "[['vanilla', 'chocolate sauce'], ['chocolate', 'chocolate sauce']]\n"
     ]
    }
   ],
   "source": [
    "class IceCreamMachine:\n",
    "    \n",
    "    def __init__(self, ingredients, toppings):\n",
    "        self.ingredients = ingredients\n",
    "        self.toppings = toppings\n",
    "        \n",
    "    def scoops(self):\n",
    "        l = []\n",
    "        for ingr in self.ingredients:\n",
    "            for top in self.toppings:\n",
    "                p = [ingr, top]\n",
    "                l.append(p)\n",
    "        return l\n",
    "\n",
    "machine = IceCreamMachine([\"vanilla\", \"chocolate\"], [\"chocolate sauce\"])\n",
    "print(machine.scoops()) #should print[['vanilla', 'chocolate sauce'], ['chocolate', 'chocolate sauce']]"
   ]
  }
 ],
 "metadata": {
  "kernelspec": {
   "display_name": "Python 3",
   "language": "python",
   "name": "python3"
  },
  "language_info": {
   "codemirror_mode": {
    "name": "ipython",
    "version": 3
   },
   "file_extension": ".py",
   "mimetype": "text/x-python",
   "name": "python",
   "nbconvert_exporter": "python",
   "pygments_lexer": "ipython3",
   "version": "3.12.1"
  }
 },
 "nbformat": 4,
 "nbformat_minor": 2
}
