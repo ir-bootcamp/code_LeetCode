{
 "cells": [
  {
   "cell_type": "markdown",
   "metadata": {},
   "source": []
  },
  {
   "cell_type": "code",
   "execution_count": null,
   "metadata": {},
   "outputs": [],
   "source": [
    "def validMountainArray(self, A: List[int]) -> bool:\n",
    "    if(len(A)<3):\n",
    "        return False\n",
    "    \n",
    "    i = 1\n",
    "    while(i<len(A) and A[i]>A[i-1]):\n",
    "        i+=1\n",
    "    \n",
    "    if(i==1 or i==len(A)):\n",
    "        return False\n",
    "    \n",
    "    while(i<len(A) and A[i]<A[i-1]):\n",
    "        i+=1\n",
    "    \n",
    "    return i==len(A)"
   ]
  }
 ],
 "metadata": {
  "language_info": {
   "name": "python"
  }
 },
 "nbformat": 4,
 "nbformat_minor": 2
}
