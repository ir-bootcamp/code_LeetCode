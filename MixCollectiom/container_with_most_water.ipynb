{
 "cells": [
  {
   "cell_type": "markdown",
   "metadata": {},
   "source": [
    "Leetcode-in-python-50-Algorithms-Coding-Interview-Questions\n"
   ]
  },
  {
   "cell_type": "code",
   "execution_count": null,
   "metadata": {},
   "outputs": [],
   "source": [
    "def maxArea(self, height: List[int]) -> int:\n",
    "\tmaxarea = 0\n",
    "\tl = 0\n",
    "\tr = len(height)-1\n",
    "\twhile(l<r):\n",
    "\t\tmaxarea = max(maxarea, min(height[l],height[r])*(r-l))\n",
    "\t\tif(height[l]<height[r]):\n",
    "\t\t\tl+=1\n",
    "\t\telse:\n",
    "\t\t\tr-=1\n",
    "\treturn maxarea"
   ]
  }
 ],
 "metadata": {
  "language_info": {
   "name": "python"
  }
 },
 "nbformat": 4,
 "nbformat_minor": 2
}
