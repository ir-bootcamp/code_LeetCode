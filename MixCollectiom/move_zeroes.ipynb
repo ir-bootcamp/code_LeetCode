{
 "cells": [
  {
   "cell_type": "markdown",
   "metadata": {},
   "source": []
  },
  {
   "cell_type": "code",
   "execution_count": null,
   "metadata": {},
   "outputs": [],
   "source": [
    "def moveZeroes(self, nums: List[int]) -> None:\n",
    "    j = 0\n",
    "    for num in nums:\n",
    "        if(num != 0):\n",
    "            nums[j] = num\n",
    "            j += 1\n",
    "    for x in range(j, len(nums)):\n",
    "        nums[x] = 0"
   ]
  }
 ],
 "metadata": {
  "language_info": {
   "name": "python"
  }
 },
 "nbformat": 4,
 "nbformat_minor": 2
}
