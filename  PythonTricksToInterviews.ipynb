{
 "cells": [
  {
   "cell_type": "code",
   "execution_count": 5,
   "metadata": {},
   "outputs": [
    {
     "name": "stdout",
     "output_type": "stream",
     "text": [
      "[0, 1, 2, 3, 4, 5, 6, 7, 8, 9]\n"
     ]
    }
   ],
   "source": [
    "newlist = [x for x in range(10)]\n",
    "print (newlist)\n",
    "#for i in range(10):\n",
    " #   print (i)\n",
    "\n",
    " "
   ]
  },
  {
   "cell_type": "code",
   "execution_count": 10,
   "metadata": {},
   "outputs": [
    {
     "name": "stdout",
     "output_type": "stream",
     "text": [
      "[54, 33, 45, 19, 23, 90]\n",
      "asd fgh\n",
      "['a', 's', 'd', ' ', 'f', 'g', 'h']\n",
      "['h', 'g', 'f', ' ', 'd', 's', 'a']\n",
      "h g f   d s a\n"
     ]
    }
   ],
   "source": [
    "nums = [90,23,19,45,33,54]\n",
    "nums.reverse()\n",
    "print(nums)\n",
    "\n",
    "string = \"asd fgh\"\n",
    "print(string)\n",
    "a = list(string)\n",
    "print(a)\n",
    "a.reverse()\n",
    "print(a)\n",
    "\n",
    "delimiter = \" \" # Define a delimiter\n",
    "join_str = delimiter.join(a)\n",
    "print(join_str)\n",
    "\n"
   ]
  },
  {
   "cell_type": "code",
   "execution_count": 11,
   "metadata": {},
   "outputs": [
    {
     "name": "stdout",
     "output_type": "stream",
     "text": [
      "INDEX 0 for FRUIT apple\n",
      "INDEX 1 for FRUIT banana\n",
      "INDEX 2 for FRUIT cherry\n",
      "INDEX 3 for FRUIT kiwi\n",
      "INDEX 4 for FRUIT mango\n"
     ]
    }
   ],
   "source": [
    "fruits = [\"apple\", \"banana\", \"cherry\", \"kiwi\", \"mango\"]\n",
    "\n",
    "for indx, fruit in enumerate(fruits):\n",
    "    print (f\"INDEX {indx} for FRUIT {fruit}\")"
   ]
  }
 ],
 "metadata": {
  "kernelspec": {
   "display_name": "Python 3",
   "language": "python",
   "name": "python3"
  },
  "language_info": {
   "codemirror_mode": {
    "name": "ipython",
    "version": 3
   },
   "file_extension": ".py",
   "mimetype": "text/x-python",
   "name": "python",
   "nbconvert_exporter": "python",
   "pygments_lexer": "ipython3",
   "version": "3.12.1"
  }
 },
 "nbformat": 4,
 "nbformat_minor": 2
}
